{
 "cells": [
  {
   "cell_type": "markdown",
   "metadata": {},
   "source": [
    "# Clustering of Countries \n",
    "\n",
    "1. Data Understanding and Cleaning\n",
    "\n",
    "# 3. Modelling"
   ]
  },
  {
   "cell_type": "code",
   "execution_count": 1,
   "metadata": {},
   "outputs": [],
   "source": [
    "# importing dependencies\n",
    "import pandas as pd\n",
    "import numpy as np\n",
    "# importing Visualisation lib's\n",
    "import matplotlib.pyplot as plt\n",
    "import seaborn as sns\n",
    "%matplotlib inline\n",
    "from sklearn.preprocessing import scale\n",
    "#clustering_k means\n",
    "from sklearn.cluster import KMeans\n",
    "\n",
    "# clustering hierarchy\n",
    "from scipy.cluster.hierarchy import linkage\n",
    "from scipy.cluster.hierarchy import dendrogram\n",
    "from scipy.cluster.hierarchy import cut_tree"
   ]
  },
  {
   "cell_type": "code",
   "execution_count": 2,
   "metadata": {},
   "outputs": [],
   "source": [
    "# reading the file into jupyter notebook\n",
    "help_df = pd.read_csv('Country-data.csv')\n",
    "help_df1 = pd.read_csv('Country-data.csv')"
   ]
  },
  {
   "cell_type": "code",
   "execution_count": 3,
   "metadata": {},
   "outputs": [
    {
     "data": {
      "text/html": [
       "<div>\n",
       "<style scoped>\n",
       "    .dataframe tbody tr th:only-of-type {\n",
       "        vertical-align: middle;\n",
       "    }\n",
       "\n",
       "    .dataframe tbody tr th {\n",
       "        vertical-align: top;\n",
       "    }\n",
       "\n",
       "    .dataframe thead th {\n",
       "        text-align: right;\n",
       "    }\n",
       "</style>\n",
       "<table border=\"1\" class=\"dataframe\">\n",
       "  <thead>\n",
       "    <tr style=\"text-align: right;\">\n",
       "      <th></th>\n",
       "      <th>country</th>\n",
       "      <th>child_mort</th>\n",
       "      <th>exports</th>\n",
       "      <th>health</th>\n",
       "      <th>imports</th>\n",
       "      <th>income</th>\n",
       "      <th>inflation</th>\n",
       "      <th>life_expec</th>\n",
       "      <th>total_fer</th>\n",
       "      <th>gdpp</th>\n",
       "    </tr>\n",
       "  </thead>\n",
       "  <tbody>\n",
       "    <tr>\n",
       "      <th>0</th>\n",
       "      <td>Afghanistan</td>\n",
       "      <td>90.2</td>\n",
       "      <td>10.0</td>\n",
       "      <td>7.58</td>\n",
       "      <td>44.9</td>\n",
       "      <td>1610</td>\n",
       "      <td>9.44</td>\n",
       "      <td>56.2</td>\n",
       "      <td>5.82</td>\n",
       "      <td>553</td>\n",
       "    </tr>\n",
       "    <tr>\n",
       "      <th>1</th>\n",
       "      <td>Albania</td>\n",
       "      <td>16.6</td>\n",
       "      <td>28.0</td>\n",
       "      <td>6.55</td>\n",
       "      <td>48.6</td>\n",
       "      <td>9930</td>\n",
       "      <td>4.49</td>\n",
       "      <td>76.3</td>\n",
       "      <td>1.65</td>\n",
       "      <td>4090</td>\n",
       "    </tr>\n",
       "    <tr>\n",
       "      <th>2</th>\n",
       "      <td>Algeria</td>\n",
       "      <td>27.3</td>\n",
       "      <td>38.4</td>\n",
       "      <td>4.17</td>\n",
       "      <td>31.4</td>\n",
       "      <td>12900</td>\n",
       "      <td>16.10</td>\n",
       "      <td>76.5</td>\n",
       "      <td>2.89</td>\n",
       "      <td>4460</td>\n",
       "    </tr>\n",
       "    <tr>\n",
       "      <th>3</th>\n",
       "      <td>Angola</td>\n",
       "      <td>119.0</td>\n",
       "      <td>62.3</td>\n",
       "      <td>2.85</td>\n",
       "      <td>42.9</td>\n",
       "      <td>5900</td>\n",
       "      <td>22.40</td>\n",
       "      <td>60.1</td>\n",
       "      <td>6.16</td>\n",
       "      <td>3530</td>\n",
       "    </tr>\n",
       "    <tr>\n",
       "      <th>4</th>\n",
       "      <td>Antigua and Barbuda</td>\n",
       "      <td>10.3</td>\n",
       "      <td>45.5</td>\n",
       "      <td>6.03</td>\n",
       "      <td>58.9</td>\n",
       "      <td>19100</td>\n",
       "      <td>1.44</td>\n",
       "      <td>76.8</td>\n",
       "      <td>2.13</td>\n",
       "      <td>12200</td>\n",
       "    </tr>\n",
       "  </tbody>\n",
       "</table>\n",
       "</div>"
      ],
      "text/plain": [
       "               country  child_mort  exports  health  imports  income  \\\n",
       "0          Afghanistan        90.2     10.0    7.58     44.9    1610   \n",
       "1              Albania        16.6     28.0    6.55     48.6    9930   \n",
       "2              Algeria        27.3     38.4    4.17     31.4   12900   \n",
       "3               Angola       119.0     62.3    2.85     42.9    5900   \n",
       "4  Antigua and Barbuda        10.3     45.5    6.03     58.9   19100   \n",
       "\n",
       "   inflation  life_expec  total_fer   gdpp  \n",
       "0       9.44        56.2       5.82    553  \n",
       "1       4.49        76.3       1.65   4090  \n",
       "2      16.10        76.5       2.89   4460  \n",
       "3      22.40        60.1       6.16   3530  \n",
       "4       1.44        76.8       2.13  12200  "
      ]
     },
     "execution_count": 3,
     "metadata": {},
     "output_type": "execute_result"
    }
   ],
   "source": [
    "#first 5 values\n",
    "help_df.head()"
   ]
  },
  {
   "cell_type": "code",
   "execution_count": 4,
   "metadata": {},
   "outputs": [
    {
     "data": {
      "text/plain": [
       "False"
      ]
     },
     "execution_count": 4,
     "metadata": {},
     "output_type": "execute_result"
    }
   ],
   "source": [
    "# check for null values\n",
    "help_df.isnull().values.any()\n"
   ]
  },
  {
   "cell_type": "code",
   "execution_count": 5,
   "metadata": {},
   "outputs": [
    {
     "data": {
      "text/plain": [
       "0"
      ]
     },
     "execution_count": 5,
     "metadata": {},
     "output_type": "execute_result"
    }
   ],
   "source": [
    "help_df.isnull().values.sum()\n"
   ]
  },
  {
   "cell_type": "code",
   "execution_count": 6,
   "metadata": {},
   "outputs": [
    {
     "data": {
      "text/plain": [
       "country       0.0\n",
       "child_mort    0.0\n",
       "exports       0.0\n",
       "health        0.0\n",
       "imports       0.0\n",
       "income        0.0\n",
       "inflation     0.0\n",
       "life_expec    0.0\n",
       "total_fer     0.0\n",
       "gdpp          0.0\n",
       "dtype: float64"
      ]
     },
     "execution_count": 6,
     "metadata": {},
     "output_type": "execute_result"
    }
   ],
   "source": [
    "help_df.isnull().sum()*100/help_df.shape[0]"
   ]
  },
  {
   "cell_type": "code",
   "execution_count": 7,
   "metadata": {},
   "outputs": [],
   "source": [
    "help_ = help_df.dropna()"
   ]
  },
  {
   "cell_type": "code",
   "execution_count": 8,
   "metadata": {},
   "outputs": [
    {
     "data": {
      "text/plain": [
       "country       0\n",
       "child_mort    0\n",
       "exports       0\n",
       "health        0\n",
       "imports       0\n",
       "income        0\n",
       "inflation     0\n",
       "life_expec    0\n",
       "total_fer     0\n",
       "gdpp          0\n",
       "dtype: int64"
      ]
     },
     "execution_count": 8,
     "metadata": {},
     "output_type": "execute_result"
    }
   ],
   "source": [
    "help_.shape\n",
    "help_.isnull().sum()"
   ]
  },
  {
   "cell_type": "markdown",
   "metadata": {},
   "source": [
    "Here the exports, imports and health columns are all percentages of the countries GDP. so we would have to multiply these columns with GDP so that we get absolute value of health, imports, exports  "
   ]
  },
  {
   "cell_type": "code",
   "execution_count": 9,
   "metadata": {},
   "outputs": [],
   "source": [
    "help_df['exports'] = help_df['exports']*help_df['gdpp']/100\n",
    "help_df['imports'] = help_df['imports']*help_df['gdpp']/100\n",
    "help_df['health'] = help_df['health']*help_df['gdpp']/100"
   ]
  },
  {
   "cell_type": "code",
   "execution_count": 10,
   "metadata": {},
   "outputs": [
    {
     "data": {
      "text/html": [
       "<div>\n",
       "<style scoped>\n",
       "    .dataframe tbody tr th:only-of-type {\n",
       "        vertical-align: middle;\n",
       "    }\n",
       "\n",
       "    .dataframe tbody tr th {\n",
       "        vertical-align: top;\n",
       "    }\n",
       "\n",
       "    .dataframe thead th {\n",
       "        text-align: right;\n",
       "    }\n",
       "</style>\n",
       "<table border=\"1\" class=\"dataframe\">\n",
       "  <thead>\n",
       "    <tr style=\"text-align: right;\">\n",
       "      <th></th>\n",
       "      <th>country</th>\n",
       "      <th>child_mort</th>\n",
       "      <th>exports</th>\n",
       "      <th>health</th>\n",
       "      <th>imports</th>\n",
       "      <th>income</th>\n",
       "      <th>inflation</th>\n",
       "      <th>life_expec</th>\n",
       "      <th>total_fer</th>\n",
       "      <th>gdpp</th>\n",
       "    </tr>\n",
       "  </thead>\n",
       "  <tbody>\n",
       "    <tr>\n",
       "      <th>0</th>\n",
       "      <td>Afghanistan</td>\n",
       "      <td>90.2</td>\n",
       "      <td>55.30</td>\n",
       "      <td>41.9174</td>\n",
       "      <td>248.297</td>\n",
       "      <td>1610</td>\n",
       "      <td>9.44</td>\n",
       "      <td>56.2</td>\n",
       "      <td>5.82</td>\n",
       "      <td>553</td>\n",
       "    </tr>\n",
       "    <tr>\n",
       "      <th>1</th>\n",
       "      <td>Albania</td>\n",
       "      <td>16.6</td>\n",
       "      <td>1145.20</td>\n",
       "      <td>267.8950</td>\n",
       "      <td>1987.740</td>\n",
       "      <td>9930</td>\n",
       "      <td>4.49</td>\n",
       "      <td>76.3</td>\n",
       "      <td>1.65</td>\n",
       "      <td>4090</td>\n",
       "    </tr>\n",
       "    <tr>\n",
       "      <th>2</th>\n",
       "      <td>Algeria</td>\n",
       "      <td>27.3</td>\n",
       "      <td>1712.64</td>\n",
       "      <td>185.9820</td>\n",
       "      <td>1400.440</td>\n",
       "      <td>12900</td>\n",
       "      <td>16.10</td>\n",
       "      <td>76.5</td>\n",
       "      <td>2.89</td>\n",
       "      <td>4460</td>\n",
       "    </tr>\n",
       "    <tr>\n",
       "      <th>3</th>\n",
       "      <td>Angola</td>\n",
       "      <td>119.0</td>\n",
       "      <td>2199.19</td>\n",
       "      <td>100.6050</td>\n",
       "      <td>1514.370</td>\n",
       "      <td>5900</td>\n",
       "      <td>22.40</td>\n",
       "      <td>60.1</td>\n",
       "      <td>6.16</td>\n",
       "      <td>3530</td>\n",
       "    </tr>\n",
       "    <tr>\n",
       "      <th>4</th>\n",
       "      <td>Antigua and Barbuda</td>\n",
       "      <td>10.3</td>\n",
       "      <td>5551.00</td>\n",
       "      <td>735.6600</td>\n",
       "      <td>7185.800</td>\n",
       "      <td>19100</td>\n",
       "      <td>1.44</td>\n",
       "      <td>76.8</td>\n",
       "      <td>2.13</td>\n",
       "      <td>12200</td>\n",
       "    </tr>\n",
       "  </tbody>\n",
       "</table>\n",
       "</div>"
      ],
      "text/plain": [
       "               country  child_mort  exports    health   imports  income  \\\n",
       "0          Afghanistan        90.2    55.30   41.9174   248.297    1610   \n",
       "1              Albania        16.6  1145.20  267.8950  1987.740    9930   \n",
       "2              Algeria        27.3  1712.64  185.9820  1400.440   12900   \n",
       "3               Angola       119.0  2199.19  100.6050  1514.370    5900   \n",
       "4  Antigua and Barbuda        10.3  5551.00  735.6600  7185.800   19100   \n",
       "\n",
       "   inflation  life_expec  total_fer   gdpp  \n",
       "0       9.44        56.2       5.82    553  \n",
       "1       4.49        76.3       1.65   4090  \n",
       "2      16.10        76.5       2.89   4460  \n",
       "3      22.40        60.1       6.16   3530  \n",
       "4       1.44        76.8       2.13  12200  "
      ]
     },
     "execution_count": 10,
     "metadata": {},
     "output_type": "execute_result"
    }
   ],
   "source": [
    "help_df.head()"
   ]
  },
  {
   "cell_type": "code",
   "execution_count": 11,
   "metadata": {},
   "outputs": [
    {
     "data": {
      "text/plain": [
       "(167, 10)"
      ]
     },
     "execution_count": 11,
     "metadata": {},
     "output_type": "execute_result"
    }
   ],
   "source": [
    "help_df.shape"
   ]
  },
  {
   "cell_type": "markdown",
   "metadata": {},
   "source": [
    "how lets see the corelation between all the independent variables"
   ]
  },
  {
   "cell_type": "code",
   "execution_count": 12,
   "metadata": {},
   "outputs": [
    {
     "data": {
      "text/plain": [
       "<matplotlib.axes._subplots.AxesSubplot at 0x1a23f69f10>"
      ]
     },
     "execution_count": 12,
     "metadata": {},
     "output_type": "execute_result"
    },
    {
     "data": {
      "image/png": "[encoded data removed]",
      "text/plain": [
       "<Figure size 1080x720 with 2 Axes>"
      ]
     },
     "metadata": {
      "needs_background": "light"
     },
     "output_type": "display_data"
    }
   ],
   "source": [
    "plt.figure(figsize = (15,10))        \n",
    "sns.heatmap(help_df.corr(),annot = True)"
   ]
  },
  {
   "cell_type": "markdown",
   "metadata": {},
   "source": [
    "# 2. Data Preparation"
   ]
  },
  {
   "cell_type": "code",
   "execution_count": 13,
   "metadata": {},
   "outputs": [],
   "source": [
    "# importing scaler\n",
    "from sklearn.preprocessing import StandardScaler\n",
    "from sklearn.preprocessing import MinMaxScaler\n",
    "scaler = MinMaxScaler()\n",
    "num_col=['child_mort','exports','health','imports','income','inflation','life_expec','total_fer','gdpp']\n",
    "help_df[num_col] = scaler.fit_transform(help_df[num_col])\n",
    "stand_df=help_df[num_col]\n"
   ]
  },
  {
   "cell_type": "code",
   "execution_count": 14,
   "metadata": {
    "scrolled": true
   },
   "outputs": [
    {
     "data": {
      "text/html": [
       "<div>\n",
       "<style scoped>\n",
       "    .dataframe tbody tr th:only-of-type {\n",
       "        vertical-align: middle;\n",
       "    }\n",
       "\n",
       "    .dataframe tbody tr th {\n",
       "        vertical-align: top;\n",
       "    }\n",
       "\n",
       "    .dataframe thead th {\n",
       "        text-align: right;\n",
       "    }\n",
       "</style>\n",
       "<table border=\"1\" class=\"dataframe\">\n",
       "  <thead>\n",
       "    <tr style=\"text-align: right;\">\n",
       "      <th></th>\n",
       "      <th>child_mort</th>\n",
       "      <th>exports</th>\n",
       "      <th>health</th>\n",
       "      <th>imports</th>\n",
       "      <th>income</th>\n",
       "      <th>inflation</th>\n",
       "      <th>life_expec</th>\n",
       "      <th>total_fer</th>\n",
       "      <th>gdpp</th>\n",
       "    </tr>\n",
       "  </thead>\n",
       "  <tbody>\n",
       "    <tr>\n",
       "      <th>0</th>\n",
       "      <td>0.426485</td>\n",
       "      <td>0.000295</td>\n",
       "      <td>0.003363</td>\n",
       "      <td>0.001661</td>\n",
       "      <td>0.008047</td>\n",
       "      <td>0.126144</td>\n",
       "      <td>0.475345</td>\n",
       "      <td>0.736593</td>\n",
       "      <td>0.003073</td>\n",
       "    </tr>\n",
       "    <tr>\n",
       "      <th>1</th>\n",
       "      <td>0.068160</td>\n",
       "      <td>0.006227</td>\n",
       "      <td>0.029486</td>\n",
       "      <td>0.013327</td>\n",
       "      <td>0.074933</td>\n",
       "      <td>0.080399</td>\n",
       "      <td>0.871795</td>\n",
       "      <td>0.078864</td>\n",
       "      <td>0.036833</td>\n",
       "    </tr>\n",
       "    <tr>\n",
       "      <th>2</th>\n",
       "      <td>0.120253</td>\n",
       "      <td>0.009315</td>\n",
       "      <td>0.020017</td>\n",
       "      <td>0.009388</td>\n",
       "      <td>0.098809</td>\n",
       "      <td>0.187691</td>\n",
       "      <td>0.875740</td>\n",
       "      <td>0.274448</td>\n",
       "      <td>0.040365</td>\n",
       "    </tr>\n",
       "    <tr>\n",
       "      <th>3</th>\n",
       "      <td>0.566699</td>\n",
       "      <td>0.011963</td>\n",
       "      <td>0.010148</td>\n",
       "      <td>0.010152</td>\n",
       "      <td>0.042535</td>\n",
       "      <td>0.245911</td>\n",
       "      <td>0.552268</td>\n",
       "      <td>0.790221</td>\n",
       "      <td>0.031488</td>\n",
       "    </tr>\n",
       "    <tr>\n",
       "      <th>4</th>\n",
       "      <td>0.037488</td>\n",
       "      <td>0.030204</td>\n",
       "      <td>0.083558</td>\n",
       "      <td>0.048190</td>\n",
       "      <td>0.148652</td>\n",
       "      <td>0.052213</td>\n",
       "      <td>0.881657</td>\n",
       "      <td>0.154574</td>\n",
       "      <td>0.114242</td>\n",
       "    </tr>\n",
       "  </tbody>\n",
       "</table>\n",
       "</div>"
      ],
      "text/plain": [
       "   child_mort   exports    health   imports    income  inflation  life_expec  \\\n",
       "0    0.426485  0.000295  0.003363  0.001661  0.008047   0.126144    0.475345   \n",
       "1    0.068160  0.006227  0.029486  0.013327  0.074933   0.080399    0.871795   \n",
       "2    0.120253  0.009315  0.020017  0.009388  0.098809   0.187691    0.875740   \n",
       "3    0.566699  0.011963  0.010148  0.010152  0.042535   0.245911    0.552268   \n",
       "4    0.037488  0.030204  0.083558  0.048190  0.148652   0.052213    0.881657   \n",
       "\n",
       "   total_fer      gdpp  \n",
       "0   0.736593  0.003073  \n",
       "1   0.078864  0.036833  \n",
       "2   0.274448  0.040365  \n",
       "3   0.790221  0.031488  \n",
       "4   0.154574  0.114242  "
      ]
     },
     "execution_count": 14,
     "metadata": {},
     "output_type": "execute_result"
    }
   ],
   "source": [
    "# head of the scaled df\n",
    "stand_df.head()"
   ]
  },
  {
   "cell_type": "markdown",
   "metadata": {},
   "source": [
    "# 3. Modelling"
   ]
  },
  {
   "cell_type": "code",
   "execution_count": 15,
   "metadata": {},
   "outputs": [],
   "source": [
    "#PCA\n",
    "from sklearn.decomposition import PCA\n",
    "pca = PCA(svd_solver='randomized', random_state=42)"
   ]
  },
  {
   "cell_type": "code",
   "execution_count": 16,
   "metadata": {},
   "outputs": [
    {
     "data": {
      "text/plain": [
       "PCA(copy=True, iterated_power='auto', n_components=None, random_state=42,\n",
       "    svd_solver='randomized', tol=0.0, whiten=False)"
      ]
     },
     "execution_count": 16,
     "metadata": {},
     "output_type": "execute_result"
    }
   ],
   "source": [
    "# PCA fit\n",
    "pca.fit(stand_df)"
   ]
  },
  {
   "cell_type": "code",
   "execution_count": 17,
   "metadata": {},
   "outputs": [
    {
     "data": {
      "text/plain": [
       "array([[-0.41273803,  0.14943954,  0.40204116,  0.15384154,  0.31064148,\n",
       "        -0.07868479,  0.38103111, -0.49084547,  0.36497591],\n",
       "       [ 0.38520548,  0.2238652 ,  0.48501654,  0.21403821,  0.24345369,\n",
       "         0.03466604, -0.19791818,  0.50563849,  0.40636731],\n",
       "       [-0.02522645,  0.36562773, -0.61311681,  0.29315364,  0.49816819,\n",
       "         0.3893087 ,  0.03355813,  0.03324431,  0.04318073],\n",
       "       [ 0.34256716,  0.20745092, -0.07062458,  0.21904821,  0.01265749,\n",
       "        -0.36739942, -0.5608402 , -0.58047381,  0.00279012],\n",
       "       [ 0.22843027, -0.23543156,  0.22444136, -0.25697077,  0.04214339,\n",
       "         0.77155762, -0.19719664, -0.3702444 ,  0.05421288],\n",
       "       [-0.11042061,  0.39900337,  0.17163435,  0.51188768, -0.6284369 ,\n",
       "         0.32451835,  0.05692902, -0.02526133, -0.1816373 ],\n",
       "       [-0.70628529, -0.01364106,  0.06714428, -0.04131002,  0.05609038,\n",
       "         0.0713955 , -0.67637911,  0.16430499,  0.04507621],\n",
       "       [ 0.00770111,  0.04208025,  0.36727209,  0.10634129,  0.43889436,\n",
       "        -0.01489578,  0.00739829,  0.02297729, -0.81150469],\n",
       "       [-0.00202792, -0.73092007, -0.05470281,  0.67492317,  0.05845533,\n",
       "         0.01143871, -0.01746275,  0.01011302,  0.05729723]])"
      ]
     },
     "execution_count": 17,
     "metadata": {},
     "output_type": "execute_result"
    }
   ],
   "source": [
    "# pca components\n",
    "pca.components_"
   ]
  },
  {
   "cell_type": "code",
   "execution_count": 18,
   "metadata": {},
   "outputs": [
    {
     "data": {
      "text/plain": [
       "array([6.45017941e-01, 1.99297776e-01, 4.63812831e-02, 4.22830904e-02,\n",
       "       3.07305476e-02, 2.24898783e-02, 1.19326621e-02, 1.69293471e-03,\n",
       "       1.73887528e-04])"
      ]
     },
     "execution_count": 18,
     "metadata": {},
     "output_type": "execute_result"
    }
   ],
   "source": [
    "pca.explained_variance_ratio_"
   ]
  },
  {
   "cell_type": "code",
   "execution_count": 19,
   "metadata": {},
   "outputs": [
    {
     "data": {
      "text/html": [
       "<div>\n",
       "<style scoped>\n",
       "    .dataframe tbody tr th:only-of-type {\n",
       "        vertical-align: middle;\n",
       "    }\n",
       "\n",
       "    .dataframe tbody tr th {\n",
       "        vertical-align: top;\n",
       "    }\n",
       "\n",
       "    .dataframe thead th {\n",
       "        text-align: right;\n",
       "    }\n",
       "</style>\n",
       "<table border=\"1\" class=\"dataframe\">\n",
       "  <thead>\n",
       "    <tr style=\"text-align: right;\">\n",
       "      <th></th>\n",
       "      <th>Feature</th>\n",
       "      <th>PC1</th>\n",
       "      <th>PC2</th>\n",
       "      <th>PC3</th>\n",
       "    </tr>\n",
       "  </thead>\n",
       "  <tbody>\n",
       "    <tr>\n",
       "      <th>0</th>\n",
       "      <td>child_mort</td>\n",
       "      <td>-0.412738</td>\n",
       "      <td>0.385205</td>\n",
       "      <td>-0.025226</td>\n",
       "    </tr>\n",
       "    <tr>\n",
       "      <th>1</th>\n",
       "      <td>exports</td>\n",
       "      <td>0.149440</td>\n",
       "      <td>0.223865</td>\n",
       "      <td>0.365628</td>\n",
       "    </tr>\n",
       "    <tr>\n",
       "      <th>2</th>\n",
       "      <td>health</td>\n",
       "      <td>0.402041</td>\n",
       "      <td>0.485017</td>\n",
       "      <td>-0.613117</td>\n",
       "    </tr>\n",
       "    <tr>\n",
       "      <th>3</th>\n",
       "      <td>imports</td>\n",
       "      <td>0.153842</td>\n",
       "      <td>0.214038</td>\n",
       "      <td>0.293154</td>\n",
       "    </tr>\n",
       "    <tr>\n",
       "      <th>4</th>\n",
       "      <td>income</td>\n",
       "      <td>0.310641</td>\n",
       "      <td>0.243454</td>\n",
       "      <td>0.498168</td>\n",
       "    </tr>\n",
       "    <tr>\n",
       "      <th>5</th>\n",
       "      <td>inflation</td>\n",
       "      <td>-0.078685</td>\n",
       "      <td>0.034666</td>\n",
       "      <td>0.389309</td>\n",
       "    </tr>\n",
       "    <tr>\n",
       "      <th>6</th>\n",
       "      <td>life_expec</td>\n",
       "      <td>0.381031</td>\n",
       "      <td>-0.197918</td>\n",
       "      <td>0.033558</td>\n",
       "    </tr>\n",
       "    <tr>\n",
       "      <th>7</th>\n",
       "      <td>total_fer</td>\n",
       "      <td>-0.490845</td>\n",
       "      <td>0.505638</td>\n",
       "      <td>0.033244</td>\n",
       "    </tr>\n",
       "    <tr>\n",
       "      <th>8</th>\n",
       "      <td>gdpp</td>\n",
       "      <td>0.364976</td>\n",
       "      <td>0.406367</td>\n",
       "      <td>0.043181</td>\n",
       "    </tr>\n",
       "  </tbody>\n",
       "</table>\n",
       "</div>"
      ],
      "text/plain": [
       "      Feature       PC1       PC2       PC3\n",
       "0  child_mort -0.412738  0.385205 -0.025226\n",
       "1     exports  0.149440  0.223865  0.365628\n",
       "2      health  0.402041  0.485017 -0.613117\n",
       "3     imports  0.153842  0.214038  0.293154\n",
       "4      income  0.310641  0.243454  0.498168\n",
       "5   inflation -0.078685  0.034666  0.389309\n",
       "6  life_expec  0.381031 -0.197918  0.033558\n",
       "7   total_fer -0.490845  0.505638  0.033244\n",
       "8        gdpp  0.364976  0.406367  0.043181"
      ]
     },
     "execution_count": 19,
     "metadata": {},
     "output_type": "execute_result"
    }
   ],
   "source": [
    "# features and PC1 to PC2\n",
    "colnames = list(help_df[num_col].columns)\n",
    "pca_df = pd.DataFrame({'Feature':colnames,'PC1':pca.components_[0],'PC2':pca.components_[1] ,'PC3':pca.components_[2]})\n",
    "pca_df"
   ]
  },
  {
   "cell_type": "code",
   "execution_count": 20,
   "metadata": {},
   "outputs": [
    {
     "data": {
      "image/png": "[encoded data removed]",
      "text/plain": [
       "<Figure size 576x576 with 1 Axes>"
      ]
     },
     "metadata": {
      "needs_background": "light"
     },
     "output_type": "display_data"
    }
   ],
   "source": [
    "%matplotlib inline\n",
    "fig = plt.figure(figsize = (8,8))\n",
    "plt.scatter(pca_df.PC1, pca_df.PC2)\n",
    "plt.xlabel('Principal Component 1')\n",
    "plt.ylabel('Principal Component 2')\n",
    "for i, txt in enumerate(pca_df.Feature):\n",
    "    plt.annotate(txt, (pca_df.PC1[i],pca_df.PC2[i]))\n",
    "plt.tight_layout()\n",
    "plt.show()"
   ]
  },
  {
   "cell_type": "code",
   "execution_count": 21,
   "metadata": {},
   "outputs": [],
   "source": [
    "# plotting the pc valuses on x-y chart\n",
    "from sklearn.decomposition import IncrementalPCA\n",
    "pca_final = IncrementalPCA(n_components=3)"
   ]
  },
  {
   "cell_type": "code",
   "execution_count": 22,
   "metadata": {},
   "outputs": [
    {
     "data": {
      "text/plain": [
       "array([6.45017941e-01, 1.99297776e-01, 4.63812831e-02, 4.22830904e-02,\n",
       "       3.07305476e-02, 2.24898783e-02, 1.19326621e-02, 1.69293471e-03,\n",
       "       1.73887528e-04])"
      ]
     },
     "execution_count": 22,
     "metadata": {},
     "output_type": "execute_result"
    }
   ],
   "source": [
    "# varience for all the columns\n",
    "pca.explained_variance_ratio_"
   ]
  },
  {
   "cell_type": "code",
   "execution_count": 23,
   "metadata": {},
   "outputs": [
    {
     "data": {
      "image/png": "[encoded data removed]",
      "text/plain": [
       "<Figure size 864x576 with 1 Axes>"
      ]
     },
     "metadata": {
      "needs_background": "light"
     },
     "output_type": "display_data"
    }
   ],
   "source": [
    "# cummulative varience\n",
    "\n",
    "fig = plt.figure(figsize = (12,8))\n",
    "plt.plot(np.cumsum(pca.explained_variance_ratio_))\n",
    "plt.xlabel('number of components')\n",
    "plt.ylabel('cumulative explained variance')\n",
    "plt.show()"
   ]
  },
  {
   "cell_type": "code",
   "execution_count": 24,
   "metadata": {},
   "outputs": [
    {
     "data": {
      "text/html": [
       "<div>\n",
       "<style scoped>\n",
       "    .dataframe tbody tr th:only-of-type {\n",
       "        vertical-align: middle;\n",
       "    }\n",
       "\n",
       "    .dataframe tbody tr th {\n",
       "        vertical-align: top;\n",
       "    }\n",
       "\n",
       "    .dataframe thead th {\n",
       "        text-align: right;\n",
       "    }\n",
       "</style>\n",
       "<table border=\"1\" class=\"dataframe\">\n",
       "  <thead>\n",
       "    <tr style=\"text-align: right;\">\n",
       "      <th></th>\n",
       "      <th>Feature</th>\n",
       "      <th>PC1</th>\n",
       "      <th>PC2</th>\n",
       "      <th>PC3</th>\n",
       "    </tr>\n",
       "  </thead>\n",
       "  <tbody>\n",
       "    <tr>\n",
       "      <th>0</th>\n",
       "      <td>child_mort</td>\n",
       "      <td>-0.412738</td>\n",
       "      <td>0.385205</td>\n",
       "      <td>-0.025226</td>\n",
       "    </tr>\n",
       "    <tr>\n",
       "      <th>1</th>\n",
       "      <td>exports</td>\n",
       "      <td>0.149440</td>\n",
       "      <td>0.223865</td>\n",
       "      <td>0.365628</td>\n",
       "    </tr>\n",
       "    <tr>\n",
       "      <th>2</th>\n",
       "      <td>health</td>\n",
       "      <td>0.402041</td>\n",
       "      <td>0.485017</td>\n",
       "      <td>-0.613117</td>\n",
       "    </tr>\n",
       "    <tr>\n",
       "      <th>3</th>\n",
       "      <td>imports</td>\n",
       "      <td>0.153842</td>\n",
       "      <td>0.214038</td>\n",
       "      <td>0.293154</td>\n",
       "    </tr>\n",
       "    <tr>\n",
       "      <th>4</th>\n",
       "      <td>income</td>\n",
       "      <td>0.310641</td>\n",
       "      <td>0.243454</td>\n",
       "      <td>0.498168</td>\n",
       "    </tr>\n",
       "    <tr>\n",
       "      <th>5</th>\n",
       "      <td>inflation</td>\n",
       "      <td>-0.078685</td>\n",
       "      <td>0.034666</td>\n",
       "      <td>0.389309</td>\n",
       "    </tr>\n",
       "    <tr>\n",
       "      <th>6</th>\n",
       "      <td>life_expec</td>\n",
       "      <td>0.381031</td>\n",
       "      <td>-0.197918</td>\n",
       "      <td>0.033558</td>\n",
       "    </tr>\n",
       "    <tr>\n",
       "      <th>7</th>\n",
       "      <td>total_fer</td>\n",
       "      <td>-0.490845</td>\n",
       "      <td>0.505638</td>\n",
       "      <td>0.033244</td>\n",
       "    </tr>\n",
       "    <tr>\n",
       "      <th>8</th>\n",
       "      <td>gdpp</td>\n",
       "      <td>0.364976</td>\n",
       "      <td>0.406367</td>\n",
       "      <td>0.043181</td>\n",
       "    </tr>\n",
       "  </tbody>\n",
       "</table>\n",
       "</div>"
      ],
      "text/plain": [
       "      Feature       PC1       PC2       PC3\n",
       "0  child_mort -0.412738  0.385205 -0.025226\n",
       "1     exports  0.149440  0.223865  0.365628\n",
       "2      health  0.402041  0.485017 -0.613117\n",
       "3     imports  0.153842  0.214038  0.293154\n",
       "4      income  0.310641  0.243454  0.498168\n",
       "5   inflation -0.078685  0.034666  0.389309\n",
       "6  life_expec  0.381031 -0.197918  0.033558\n",
       "7   total_fer -0.490845  0.505638  0.033244\n",
       "8        gdpp  0.364976  0.406367  0.043181"
      ]
     },
     "execution_count": 24,
     "metadata": {},
     "output_type": "execute_result"
    }
   ],
   "source": [
    "colnames = list(help_df.drop('country',axis=1).columns)\n",
    "pcs_df = pd.DataFrame({ 'Feature':colnames,'PC1':pca.components_[0],'PC2':pca.components_[1],'PC3':pca.components_[2]})\n",
    "pcs_df"
   ]
  },
  {
   "cell_type": "code",
   "execution_count": 25,
   "metadata": {},
   "outputs": [],
   "source": [
    "# kmeans clustering\n",
    "from sklearn.decomposition import IncrementalPCA\n",
    "pca_final = IncrementalPCA(n_components=3)"
   ]
  },
  {
   "cell_type": "code",
   "execution_count": 26,
   "metadata": {},
   "outputs": [
    {
     "data": {
      "text/plain": [
       "(167, 3)"
      ]
     },
     "execution_count": 26,
     "metadata": {},
     "output_type": "execute_result"
    }
   ],
   "source": [
    "# 5 components for 90+ varience\n",
    "help_pc = pca_final.fit_transform(stand_df)\n",
    "help_pc.shape"
   ]
  },
  {
   "cell_type": "code",
   "execution_count": 27,
   "metadata": {},
   "outputs": [
    {
     "data": {
      "text/plain": [
       "array([[ 5.77543579e-01, -9.42284893e-02,  2.55102488e-02,\n",
       "         6.15072814e-01, -1.57521810e-01, -9.70844234e-02,\n",
       "        -4.52921809e-02, -6.01142456e-01, -6.68495664e-01,\n",
       "         7.45112339e-03, -2.91810701e-01, -2.56960343e-01,\n",
       "         1.14855108e-01, -2.06918792e-01, -1.06066701e-01,\n",
       "        -6.17345974e-01,  3.11965760e-02,  5.34553636e-01,\n",
       "         7.06549908e-02,  1.52784988e-01, -1.59256233e-01,\n",
       "         1.89786578e-01, -1.27476390e-01, -4.34508462e-01,\n",
       "        -1.32419552e-01,  6.19153303e-01,  6.13380260e-01,\n",
       "         1.75077135e-01,  5.37879956e-01, -6.44033423e-01,\n",
       "         4.93871709e-02,  7.11963945e-01,  7.50618971e-01,\n",
       "        -2.04791002e-01, -8.41053229e-02, -8.20499052e-02,\n",
       "         4.13580746e-01,  6.87676928e-01,  4.13074088e-01,\n",
       "        -1.68738330e-01,  5.66264323e-01, -2.27781005e-01,\n",
       "        -4.20726709e-01, -3.26040588e-01, -7.41762607e-01,\n",
       "         1.77322810e-02, -4.95078510e-03,  1.11822792e-01,\n",
       "        -1.16796392e-02,  3.54750518e-01,  3.75961548e-01,\n",
       "        -2.26107072e-01,  9.33378633e-02, -5.65589227e-01,\n",
       "        -5.54654114e-01,  2.63684431e-01,  4.75717137e-01,\n",
       "        -3.32596829e-02, -6.18143059e-01,  3.78385117e-01,\n",
       "        -4.19426872e-01, -4.23127594e-02,  1.32753129e-01,\n",
       "         5.70547446e-01,  5.65973684e-01,  1.25429668e-01,\n",
       "         7.99384251e-01, -2.45050587e-01, -5.30119902e-01,\n",
       "         1.78941286e-01,  7.70822507e-02, -8.97111679e-02,\n",
       "         2.35600581e-01, -6.46129632e-01, -3.05367374e-01,\n",
       "        -5.14311334e-01, -3.09079296e-02, -5.92485195e-01,\n",
       "         7.72513465e-02,  8.09286474e-03,  3.50017906e-01,\n",
       "         3.18826787e-01, -4.19107551e-01,  1.47590680e-01,\n",
       "         2.81832470e-01, -1.91184278e-01, -1.93498916e-01,\n",
       "         4.61153795e-01,  4.79475303e-01, -1.21850179e-01,\n",
       "        -1.99128378e-01, -1.38468948e+00, -1.14082580e-01,\n",
       "         3.94032952e-01,  5.66271616e-01, -1.18795867e-01,\n",
       "        -9.60059957e-02,  6.98699342e-01, -4.01268396e-01,\n",
       "         4.35711583e-01, -1.28142490e-01,  1.88714804e-01,\n",
       "        -3.97050351e-02,  1.19479084e-01, -1.45855074e-01,\n",
       "         4.99228346e-02,  5.93716512e-01,  1.74810036e-01,\n",
       "         2.61970329e-01,  1.54793426e-01, -7.18319326e-01,\n",
       "        -4.29669015e-01,  7.52093115e-01,  6.76629042e-01,\n",
       "        -9.79817006e-01, -1.66806537e-01,  3.54026100e-01,\n",
       "        -7.92102712e-02,  3.52072451e-02, -3.11203640e-02,\n",
       "         1.36186029e-01, -2.33253496e-01, -3.89909624e-01,\n",
       "        -7.13335371e-01, -1.35711975e-01, -1.23791300e-01,\n",
       "         3.54402051e-01,  1.68581557e-01, -1.55141905e-01,\n",
       "         4.03508266e-01, -1.44978501e-01, -1.14362169e-01,\n",
       "         6.85715873e-01, -7.45313669e-01, -2.85146848e-01,\n",
       "        -3.83809381e-01,  2.79621194e-01,  1.85038867e-01,\n",
       "        -3.70337995e-01, -4.71345376e-01, -1.66265683e-02,\n",
       "        -2.81516404e-02,  3.98905245e-01, -8.46649364e-03,\n",
       "        -6.46256436e-01, -9.98348237e-01,  2.21978453e-01,\n",
       "         4.85367195e-01, -1.19961024e-01,  4.28921280e-01,\n",
       "         4.80670060e-01,  1.48582121e-01, -6.16107532e-02,\n",
       "        -1.28740801e-01,  1.54197097e-01,  5.80455855e-01,\n",
       "        -5.82591210e-02, -4.04696892e-01, -4.95267869e-01,\n",
       "        -7.64241353e-01, -1.54924435e-01,  9.85086150e-02,\n",
       "         1.99684057e-01, -6.28651335e-02,  4.73328555e-03,\n",
       "         3.34255581e-01,  5.55672188e-01],\n",
       "       [ 2.29250538e-01, -2.74495106e-01, -1.50158034e-01,\n",
       "         3.27100212e-01, -1.62525567e-01, -1.40546796e-01,\n",
       "        -2.73832425e-01,  2.11169860e-01,  2.30120018e-01,\n",
       "        -1.55260064e-01, -2.88132497e-03, -5.01162839e-02,\n",
       "        -1.79851968e-01, -1.43829510e-01, -2.52754029e-01,\n",
       "         2.57591148e-01, -1.70874716e-01,  2.07888532e-01,\n",
       "        -1.74308513e-01, -1.03955106e-01, -3.06703361e-01,\n",
       "         7.84528293e-04, -1.70174338e-01,  6.97360780e-02,\n",
       "        -2.45843483e-01,  2.73711223e-01,  2.61736655e-01,\n",
       "        -1.27894956e-01,  2.06249525e-01,  2.29255636e-01,\n",
       "        -1.79576782e-01,  3.19203380e-01,  4.03135113e-01,\n",
       "        -1.77890029e-01, -2.75887341e-01, -2.22347416e-01,\n",
       "         1.01030761e-01,  3.29949471e-01,  1.19400296e-01,\n",
       "        -2.20234602e-01,  2.29873813e-01, -1.95167432e-01,\n",
       "        -5.33452282e-02, -1.18073162e-01,  4.04925323e-01,\n",
       "        -1.47098787e-01, -1.72119473e-01, -1.20684722e-01,\n",
       "        -2.26372563e-01,  4.06138382e-01,  4.39268827e-02,\n",
       "        -1.67578247e-01, -1.46498609e-01,  1.82065787e-01,\n",
       "         1.86046229e-01,  9.88400707e-02,  1.63665612e-01,\n",
       "        -2.47890981e-01,  1.66929819e-01,  6.38082683e-02,\n",
       "        -4.93060209e-02, -1.85585459e-01, -9.89502470e-02,\n",
       "         2.20670814e-01,  2.12613043e-01, -1.29699573e-01,\n",
       "         3.45482934e-01, -1.98621432e-01,  1.78722953e-01,\n",
       "        -1.15509956e-01, -1.68118981e-01, -2.20945151e-01,\n",
       "         4.80362571e-02,  3.12477958e-01,  7.22492520e-02,\n",
       "         3.49879633e-02, -2.25301839e-01,  9.27873261e-02,\n",
       "        -1.02083597e-01, -1.03447503e-01,  3.69259797e-02,\n",
       "         1.23038732e-02,  1.01101534e-01, -1.43452431e-01,\n",
       "        -2.59977535e-02, -2.19598677e-01, -2.46382352e-01,\n",
       "         9.31471168e-02,  1.41887166e-01, -1.16343216e-01,\n",
       "        -1.92917149e-01,  1.11050050e+00, -2.82901495e-01,\n",
       "         5.88945544e-02,  1.99918624e-01, -1.79833868e-01,\n",
       "        -2.09249963e-01,  3.61632545e-01, -5.99365907e-02,\n",
       "         1.40027956e-01, -2.26976038e-01, -5.42097542e-02,\n",
       "        -3.03052056e-01, -1.44658079e-01, -2.42808807e-01,\n",
       "        -1.78779529e-01,  2.31886501e-01, -1.28718586e-01,\n",
       "         3.28789870e-02, -1.52588148e-01,  3.50410236e-01,\n",
       "         8.47026188e-02,  4.07706269e-01,  3.38320803e-01,\n",
       "         6.57863272e-01, -1.37749324e-02,  4.70207518e-02,\n",
       "        -1.38244012e-01, -1.77857064e-01, -2.00411799e-01,\n",
       "        -1.26132125e-01, -2.11066331e-01, -8.94212233e-02,\n",
       "         3.45059262e-01, -2.33255719e-01, -1.92863433e-01,\n",
       "         4.04256527e-02, -5.23609715e-02,  1.33188861e-02,\n",
       "         9.60728568e-02, -2.75982544e-01, -1.51428747e-01,\n",
       "         3.17182006e-01,  2.37331160e-01, -1.33199558e-01,\n",
       "        -6.50425095e-02, -2.65737227e-02, -4.71072629e-03,\n",
       "        -1.42232075e-01, -3.10034023e-02, -2.48024182e-01,\n",
       "        -2.03233420e-01,  1.03181349e-01, -1.18964154e-01,\n",
       "         2.76725717e-01,  6.06871141e-01, -7.47658274e-02,\n",
       "         1.53250571e-01, -2.75705997e-01,  1.86912607e-01,\n",
       "         1.40298466e-01, -8.56512780e-02, -2.34400048e-01,\n",
       "        -1.67525926e-01, -6.78603513e-02,  2.36916543e-01,\n",
       "        -2.85543815e-01,  6.12312844e-02,  1.16303028e-01,\n",
       "         4.51305886e-01, -1.63037808e-01, -1.84753931e-01,\n",
       "        -7.68360151e-02, -1.16107405e-01, -2.56069423e-01,\n",
       "         4.52627675e-02,  2.10445554e-01],\n",
       "       [ 2.51953249e-02, -2.51764742e-02,  1.21770737e-01,\n",
       "         1.07719215e-01,  2.43334542e-02,  1.03482417e-01,\n",
       "        -4.27267327e-02, -5.72422611e-03, -8.11671778e-02,\n",
       "        -5.63440868e-02, -7.89147982e-02,  9.05905422e-02,\n",
       "        -7.49588717e-02, -4.35729630e-02, -2.14630185e-02,\n",
       "        -3.84694015e-02, -3.23416210e-03, -2.67369502e-02,\n",
       "        -4.21568640e-02,  2.56018690e-02, -5.53558954e-02,\n",
       "        -1.44393034e-01, -3.49762166e-02,  2.07980244e-01,\n",
       "        -5.33321206e-02, -5.99942825e-03,  8.13681186e-02,\n",
       "        -7.89031392e-02, -8.10108970e-02, -6.42245806e-02,\n",
       "        -1.28155395e-02, -2.33062922e-01, -1.29182920e-02,\n",
       "         4.96844835e-02, -3.43432630e-02, -3.96904823e-03,\n",
       "         8.20534249e-03,  1.02235058e-01,  8.79591704e-02,\n",
       "         4.16119262e-02, -6.74453027e-02, -3.22076282e-02,\n",
       "         7.79035745e-03, -2.72740582e-02, -9.06649748e-02,\n",
       "         1.49399812e-02,  5.74654897e-02,  5.68093306e-02,\n",
       "        -9.97378329e-03,  1.03972647e-01,  4.06160238e-02,\n",
       "        -3.13967862e-03, -6.03754016e-02, -2.17958759e-02,\n",
       "        -2.70632735e-02,  3.97773144e-02,  9.98941012e-02,\n",
       "        -2.80061413e-02, -8.62985662e-02,  8.68658540e-03,\n",
       "        -3.43413539e-02, -3.87478472e-02,  4.03175363e-02,\n",
       "        -8.20703838e-04, -1.09866910e-01, -7.85485896e-02,\n",
       "        -6.16620294e-01, -6.11643597e-02,  5.04970209e-02,\n",
       "        -9.59190647e-02,  4.35646059e-03,  2.42056859e-02,\n",
       "         1.52839793e-01, -1.65456576e-02,  1.27875361e-01,\n",
       "        -2.75666463e-02,  1.98310240e-02, -5.75192435e-02,\n",
       "         1.45822803e-01,  5.40678436e-02, -1.75682689e-02,\n",
       "        -9.13871711e-02,  2.14562314e-01,  1.42773969e-02,\n",
       "        -1.04332374e-01, -8.36147717e-02,  8.47000723e-04,\n",
       "        -3.17187468e-01, -1.49690186e-02,  1.18093451e-01,\n",
       "        -5.16562366e-02, -1.85744126e-02, -6.09417513e-02,\n",
       "         8.45705492e-03, -3.78289671e-02,  4.78191968e-02,\n",
       "         3.35930358e-02,  2.45868328e-02, -6.59169682e-03,\n",
       "         1.00554274e-01, -6.33929621e-02, -3.76973335e-02,\n",
       "        -1.06077196e-01,  8.75247261e-02, -1.25394099e-02,\n",
       "        -1.89219965e-02, -3.81999695e-02, -1.23357446e-01,\n",
       "        -1.02454066e-01, -3.64031853e-02, -7.30436632e-02,\n",
       "         2.57519607e-02,  1.09510177e-01,  3.98785466e-01,\n",
       "        -6.51963159e-02,  2.09342026e-01, -4.32855270e-02,\n",
       "         5.81798762e-02,  3.58470196e-02,  6.50668931e-02,\n",
       "         2.96446425e-03, -3.38501435e-02, -4.20182833e-02,\n",
       "         3.18881651e-01, -3.81690972e-02, -2.64881646e-02,\n",
       "         8.12302255e-03,  1.30856201e-01,  1.94753365e-01,\n",
       "         4.25964492e-02, -4.52247158e-02, -1.88684819e-02,\n",
       "        -1.17744522e-01,  9.85058412e-02, -5.56823512e-02,\n",
       "        -2.17925707e-02,  3.01075192e-02, -2.14967946e-01,\n",
       "        -1.57097207e-03, -2.65130249e-02,  8.94772846e-02,\n",
       "        -4.14386210e-02,  1.08224220e-01, -9.79024481e-03,\n",
       "        -1.76172317e-02, -1.44486917e-01,  3.23453101e-02,\n",
       "         5.12576380e-02, -1.84605575e-02,  3.06640631e-01,\n",
       "        -6.54955540e-02,  9.02534330e-02,  1.93135252e-02,\n",
       "         4.61535317e-02, -8.07045378e-02,  7.73498391e-02,\n",
       "        -5.88052775e-02,  1.25338409e-01, -1.02173226e-02,\n",
       "        -1.69703456e-01,  1.65358738e-02, -2.79734484e-02,\n",
       "        -3.69095823e-02,  2.08404771e-01, -1.70044426e-02,\n",
       "         1.53964226e-01, -1.77750355e-02]])"
      ]
     },
     "execution_count": 27,
     "metadata": {},
     "output_type": "execute_result"
    }
   ],
   "source": [
    "#take the transpose of the PC matrix so that we can create the new matrix\n",
    "pc = np.transpose(help_pc)\n",
    "pc"
   ]
  },
  {
   "cell_type": "code",
   "execution_count": 28,
   "metadata": {},
   "outputs": [
    {
     "data": {
      "text/html": [
       "<div>\n",
       "<style scoped>\n",
       "    .dataframe tbody tr th:only-of-type {\n",
       "        vertical-align: middle;\n",
       "    }\n",
       "\n",
       "    .dataframe tbody tr th {\n",
       "        vertical-align: top;\n",
       "    }\n",
       "\n",
       "    .dataframe thead th {\n",
       "        text-align: right;\n",
       "    }\n",
       "</style>\n",
       "<table border=\"1\" class=\"dataframe\">\n",
       "  <thead>\n",
       "    <tr style=\"text-align: right;\">\n",
       "      <th></th>\n",
       "      <th>country</th>\n",
       "      <th>PC1</th>\n",
       "      <th>PC2</th>\n",
       "      <th>PC3</th>\n",
       "    </tr>\n",
       "  </thead>\n",
       "  <tbody>\n",
       "    <tr>\n",
       "      <th>0</th>\n",
       "      <td>Afghanistan</td>\n",
       "      <td>0.577544</td>\n",
       "      <td>0.229251</td>\n",
       "      <td>0.025195</td>\n",
       "    </tr>\n",
       "    <tr>\n",
       "      <th>1</th>\n",
       "      <td>Albania</td>\n",
       "      <td>-0.094228</td>\n",
       "      <td>-0.274495</td>\n",
       "      <td>-0.025176</td>\n",
       "    </tr>\n",
       "    <tr>\n",
       "      <th>2</th>\n",
       "      <td>Algeria</td>\n",
       "      <td>0.025510</td>\n",
       "      <td>-0.150158</td>\n",
       "      <td>0.121771</td>\n",
       "    </tr>\n",
       "    <tr>\n",
       "      <th>3</th>\n",
       "      <td>Angola</td>\n",
       "      <td>0.615073</td>\n",
       "      <td>0.327100</td>\n",
       "      <td>0.107719</td>\n",
       "    </tr>\n",
       "    <tr>\n",
       "      <th>4</th>\n",
       "      <td>Antigua and Barbuda</td>\n",
       "      <td>-0.157522</td>\n",
       "      <td>-0.162526</td>\n",
       "      <td>0.024333</td>\n",
       "    </tr>\n",
       "  </tbody>\n",
       "</table>\n",
       "</div>"
      ],
      "text/plain": [
       "               country       PC1       PC2       PC3\n",
       "0          Afghanistan  0.577544  0.229251  0.025195\n",
       "1              Albania -0.094228 -0.274495 -0.025176\n",
       "2              Algeria  0.025510 -0.150158  0.121771\n",
       "3               Angola  0.615073  0.327100  0.107719\n",
       "4  Antigua and Barbuda -0.157522 -0.162526  0.024333"
      ]
     },
     "execution_count": 28,
     "metadata": {},
     "output_type": "execute_result"
    }
   ],
   "source": [
    "# rownames = help_df['country']\n",
    "pca_df = pd.DataFrame({'country':help_df1['country'],'PC1':pc[0],'PC2':pc[1],'PC3':pc[2]})\n",
    "pca_df.head()"
   ]
  },
  {
   "cell_type": "code",
   "execution_count": 29,
   "metadata": {},
   "outputs": [
    {
     "data": {
      "text/html": [
       "<div>\n",
       "<style scoped>\n",
       "    .dataframe tbody tr th:only-of-type {\n",
       "        vertical-align: middle;\n",
       "    }\n",
       "\n",
       "    .dataframe tbody tr th {\n",
       "        vertical-align: top;\n",
       "    }\n",
       "\n",
       "    .dataframe thead th {\n",
       "        text-align: right;\n",
       "    }\n",
       "</style>\n",
       "<table border=\"1\" class=\"dataframe\">\n",
       "  <thead>\n",
       "    <tr style=\"text-align: right;\">\n",
       "      <th></th>\n",
       "      <th>country</th>\n",
       "      <th>child_mort</th>\n",
       "      <th>exports</th>\n",
       "      <th>health</th>\n",
       "      <th>imports</th>\n",
       "      <th>income</th>\n",
       "      <th>inflation</th>\n",
       "      <th>life_expec</th>\n",
       "      <th>total_fer</th>\n",
       "      <th>gdpp</th>\n",
       "    </tr>\n",
       "  </thead>\n",
       "  <tbody>\n",
       "    <tr>\n",
       "      <th>0</th>\n",
       "      <td>Afghanistan</td>\n",
       "      <td>0.426485</td>\n",
       "      <td>0.000295</td>\n",
       "      <td>0.003363</td>\n",
       "      <td>0.001661</td>\n",
       "      <td>0.008047</td>\n",
       "      <td>0.126144</td>\n",
       "      <td>0.475345</td>\n",
       "      <td>0.736593</td>\n",
       "      <td>0.003073</td>\n",
       "    </tr>\n",
       "    <tr>\n",
       "      <th>1</th>\n",
       "      <td>Albania</td>\n",
       "      <td>0.068160</td>\n",
       "      <td>0.006227</td>\n",
       "      <td>0.029486</td>\n",
       "      <td>0.013327</td>\n",
       "      <td>0.074933</td>\n",
       "      <td>0.080399</td>\n",
       "      <td>0.871795</td>\n",
       "      <td>0.078864</td>\n",
       "      <td>0.036833</td>\n",
       "    </tr>\n",
       "    <tr>\n",
       "      <th>2</th>\n",
       "      <td>Algeria</td>\n",
       "      <td>0.120253</td>\n",
       "      <td>0.009315</td>\n",
       "      <td>0.020017</td>\n",
       "      <td>0.009388</td>\n",
       "      <td>0.098809</td>\n",
       "      <td>0.187691</td>\n",
       "      <td>0.875740</td>\n",
       "      <td>0.274448</td>\n",
       "      <td>0.040365</td>\n",
       "    </tr>\n",
       "    <tr>\n",
       "      <th>3</th>\n",
       "      <td>Angola</td>\n",
       "      <td>0.566699</td>\n",
       "      <td>0.011963</td>\n",
       "      <td>0.010148</td>\n",
       "      <td>0.010152</td>\n",
       "      <td>0.042535</td>\n",
       "      <td>0.245911</td>\n",
       "      <td>0.552268</td>\n",
       "      <td>0.790221</td>\n",
       "      <td>0.031488</td>\n",
       "    </tr>\n",
       "    <tr>\n",
       "      <th>4</th>\n",
       "      <td>Antigua and Barbuda</td>\n",
       "      <td>0.037488</td>\n",
       "      <td>0.030204</td>\n",
       "      <td>0.083558</td>\n",
       "      <td>0.048190</td>\n",
       "      <td>0.148652</td>\n",
       "      <td>0.052213</td>\n",
       "      <td>0.881657</td>\n",
       "      <td>0.154574</td>\n",
       "      <td>0.114242</td>\n",
       "    </tr>\n",
       "  </tbody>\n",
       "</table>\n",
       "</div>"
      ],
      "text/plain": [
       "               country  child_mort   exports    health   imports    income  \\\n",
       "0          Afghanistan    0.426485  0.000295  0.003363  0.001661  0.008047   \n",
       "1              Albania    0.068160  0.006227  0.029486  0.013327  0.074933   \n",
       "2              Algeria    0.120253  0.009315  0.020017  0.009388  0.098809   \n",
       "3               Angola    0.566699  0.011963  0.010148  0.010152  0.042535   \n",
       "4  Antigua and Barbuda    0.037488  0.030204  0.083558  0.048190  0.148652   \n",
       "\n",
       "   inflation  life_expec  total_fer      gdpp  \n",
       "0   0.126144    0.475345   0.736593  0.003073  \n",
       "1   0.080399    0.871795   0.078864  0.036833  \n",
       "2   0.187691    0.875740   0.274448  0.040365  \n",
       "3   0.245911    0.552268   0.790221  0.031488  \n",
       "4   0.052213    0.881657   0.154574  0.114242  "
      ]
     },
     "execution_count": 29,
     "metadata": {},
     "output_type": "execute_result"
    }
   ],
   "source": [
    "help_df.head()"
   ]
  },
  {
   "cell_type": "code",
   "execution_count": 30,
   "metadata": {},
   "outputs": [
    {
     "data": {
      "image/png": "[encoded data removed]",
      "text/plain": [
       "<Figure size 432x288 with 1 Axes>"
      ]
     },
     "metadata": {
      "needs_background": "light"
     },
     "output_type": "display_data"
    }
   ],
   "source": [
    "# outlier treatment1\n",
    "plt.boxplot(pca_df.PC1)\n",
    "Q1 = pca_df.PC1.quantile(0.25)\n",
    "Q3 = pca_df.PC1.quantile(0.75)\n",
    "IQR = Q3 - Q1\n",
    "help_ = help_[(pca_df.PC1 >= Q1 - 1.5*IQR) & (pca_df.PC1 <= Q3 + 1.5*IQR)]"
   ]
  },
  {
   "cell_type": "code",
   "execution_count": 31,
   "metadata": {},
   "outputs": [
    {
     "name": "stderr",
     "output_type": "stream",
     "text": [
      "/Applications/anaconda3/lib/python3.7/site-packages/ipykernel_launcher.py:6: UserWarning: Boolean Series key will be reindexed to match DataFrame index.\n",
      "  \n"
     ]
    },
    {
     "data": {
      "image/png": "[encoded data removed]",
      "text/plain": [
       "<Figure size 432x288 with 1 Axes>"
      ]
     },
     "metadata": {
      "needs_background": "light"
     },
     "output_type": "display_data"
    }
   ],
   "source": [
    "# outlier treatment2\n",
    "plt.boxplot(pca_df.PC2)\n",
    "Q1 = pca_df.PC2.quantile(0.25)\n",
    "Q3 = pca_df.PC2.quantile(0.75)\n",
    "IQR = Q3 - Q1\n",
    "help_ = help_[(pca_df.PC2 >= Q1 - 1.5*IQR) & (pca_df.PC2 <= Q3 + 1.5*IQR)]"
   ]
  },
  {
   "cell_type": "code",
   "execution_count": 32,
   "metadata": {},
   "outputs": [
    {
     "name": "stderr",
     "output_type": "stream",
     "text": [
      "/Applications/anaconda3/lib/python3.7/site-packages/ipykernel_launcher.py:6: UserWarning: Boolean Series key will be reindexed to match DataFrame index.\n",
      "  \n"
     ]
    },
    {
     "data": {
      "image/png": "[encoded data removed]",
      "text/plain": [
       "<Figure size 432x288 with 1 Axes>"
      ]
     },
     "metadata": {
      "needs_background": "light"
     },
     "output_type": "display_data"
    }
   ],
   "source": [
    "# outlier treatment3\n",
    "plt.boxplot(pca_df.PC3)\n",
    "Q1 = pca_df.PC3.quantile(0.25)\n",
    "Q3 = pca_df.PC3.quantile(0.75)\n",
    "IQR = Q3 - Q1\n",
    "help_ = help_[(pca_df.PC3 >= Q1 - 1.5*IQR) & (pca_df.PC3 <= Q3 + 1.5*IQR)]"
   ]
  },
  {
   "cell_type": "code",
   "execution_count": 33,
   "metadata": {},
   "outputs": [
    {
     "data": {
      "text/plain": [
       "<matplotlib.axes._subplots.AxesSubplot at 0x1a24dd2e90>"
      ]
     },
     "execution_count": 33,
     "metadata": {},
     "output_type": "execute_result"
    },
    {
     "data": {
      "image/png": "[encoded data removed]",
      "text/plain": [
       "<Figure size 432x288 with 1 Axes>"
      ]
     },
     "metadata": {
      "needs_background": "light"
     },
     "output_type": "display_data"
    }
   ],
   "source": [
    "sns.scatterplot(x='PC1',y='PC2',data=pca_df)"
   ]
  },
  {
   "cell_type": "code",
   "execution_count": 34,
   "metadata": {},
   "outputs": [
    {
     "data": {
      "text/plain": [
       "<matplotlib.axes._subplots.AxesSubplot at 0x1a252bb390>"
      ]
     },
     "execution_count": 34,
     "metadata": {},
     "output_type": "execute_result"
    },
    {
     "data": {
      "image/png": "[encoded data removed]",
      "text/plain": [
       "<Figure size 432x288 with 1 Axes>"
      ]
     },
     "metadata": {
      "needs_background": "light"
     },
     "output_type": "display_data"
    }
   ],
   "source": [
    "sns.scatterplot(x='PC1',y='PC3',data=pca_df)"
   ]
  },
  {
   "cell_type": "markdown",
   "metadata": {},
   "source": [
    "# Clustering"
   ]
  },
  {
   "cell_type": "markdown",
   "metadata": {},
   "source": [
    "# K-means"
   ]
  },
  {
   "cell_type": "code",
   "execution_count": 35,
   "metadata": {},
   "outputs": [],
   "source": [
    "#Calculating the Hopkins statistic\n",
    "from sklearn.neighbors import NearestNeighbors\n",
    "from random import sample\n",
    "from numpy.random import uniform\n",
    "import numpy as np\n",
    "from math import isnan\n",
    " \n",
    "def hopkins(X):\n",
    "    d = X.shape[1]\n",
    "    #d = len(vars) # columns\n",
    "    n = len(X) # rows\n",
    "    m = int(0.1 * n) \n",
    "    nbrs = NearestNeighbors(n_neighbors=1).fit(X.values)\n",
    " \n",
    "    rand_X = sample(range(0, n, 1), m)\n",
    " \n",
    "    ujd = []\n",
    "    wjd = []\n",
    "    for j in range(0, m):\n",
    "        u_dist, _ = nbrs.kneighbors(uniform(np.amin(X,axis=0),np.amax(X,axis=0),d).reshape(1, -1), 2, return_distance=True)\n",
    "        ujd.append(u_dist[0][1])\n",
    "        w_dist, _ = nbrs.kneighbors(X.iloc[rand_X[j]].values.reshape(1, -1), 2, return_distance=True)\n",
    "        wjd.append(w_dist[0][1])\n",
    " \n",
    "    H = sum(ujd) / (sum(ujd) + sum(wjd))\n",
    "    if isnan(H):\n",
    "        print(ujd, wjd)\n",
    "        H = 0\n",
    " \n",
    "    return H"
   ]
  },
  {
   "cell_type": "code",
   "execution_count": 36,
   "metadata": {},
   "outputs": [
    {
     "data": {
      "text/plain": [
       "0.8615601411465492"
      ]
     },
     "execution_count": 36,
     "metadata": {},
     "output_type": "execute_result"
    }
   ],
   "source": [
    "hopkins(pca_df.drop(['country'],axis=1))"
   ]
  },
  {
   "cell_type": "code",
   "execution_count": 37,
   "metadata": {},
   "outputs": [],
   "source": [
    "pc_df = pca_df\n",
    "standard_scaler = StandardScaler()\n",
    "stand_pc = standard_scaler.fit_transform(pc_df.drop(['country'],axis=1))"
   ]
  },
  {
   "cell_type": "code",
   "execution_count": 38,
   "metadata": {},
   "outputs": [],
   "source": [
    "from sklearn.metrics import silhouette_score\n",
    "sse_ = []\n",
    "for k in range(2, 10):\n",
    "    kmeans = KMeans(n_clusters=k).fit(stand_pc)\n",
    "    sse_.append([k, silhouette_score(stand_pc, kmeans.labels_)])"
   ]
  },
  {
   "cell_type": "code",
   "execution_count": 39,
   "metadata": {},
   "outputs": [
    {
     "data": {
      "image/png": "[encoded data removed]",
      "text/plain": [
       "<Figure size 432x288 with 1 Axes>"
      ]
     },
     "metadata": {
      "needs_background": "light"
     },
     "output_type": "display_data"
    }
   ],
   "source": [
    "plt.plot(pd.DataFrame(sse_)[0], pd.DataFrame(sse_)[1]);"
   ]
  },
  {
   "cell_type": "code",
   "execution_count": 40,
   "metadata": {},
   "outputs": [
    {
     "data": {
      "text/plain": [
       "KMeans(algorithm='auto', copy_x=True, init='k-means++', max_iter=50,\n",
       "       n_clusters=5, n_init=10, n_jobs=None, precompute_distances='auto',\n",
       "       random_state=None, tol=0.0001, verbose=0)"
      ]
     },
     "execution_count": 40,
     "metadata": {},
     "output_type": "execute_result"
    }
   ],
   "source": [
    "#clustering\n",
    "model_clus5 = KMeans(n_clusters = 5, max_iter=50)\n",
    "model_clus5.fit(stand_pc)\n"
   ]
  },
  {
   "cell_type": "code",
   "execution_count": 41,
   "metadata": {},
   "outputs": [],
   "source": [
    "# Silhouette score\n",
    "from sklearn.metrics import silhouette_score\n",
    "sse_ = []\n",
    "for k in range(2, 15):\n",
    "    kmeans = KMeans(n_clusters=k).fit(stand_pc)\n",
    "    sse_.append([k, silhouette_score(stand_pc, kmeans.labels_)])"
   ]
  },
  {
   "cell_type": "code",
   "execution_count": 42,
   "metadata": {},
   "outputs": [
    {
     "data": {
      "text/html": [
       "<div>\n",
       "<style scoped>\n",
       "    .dataframe tbody tr th:only-of-type {\n",
       "        vertical-align: middle;\n",
       "    }\n",
       "\n",
       "    .dataframe tbody tr th {\n",
       "        vertical-align: top;\n",
       "    }\n",
       "\n",
       "    .dataframe thead th {\n",
       "        text-align: right;\n",
       "    }\n",
       "</style>\n",
       "<table border=\"1\" class=\"dataframe\">\n",
       "  <thead>\n",
       "    <tr style=\"text-align: right;\">\n",
       "      <th></th>\n",
       "      <th>country</th>\n",
       "      <th>PC1</th>\n",
       "      <th>PC2</th>\n",
       "      <th>PC3</th>\n",
       "      <th>ClusterID</th>\n",
       "    </tr>\n",
       "  </thead>\n",
       "  <tbody>\n",
       "    <tr>\n",
       "      <th>0</th>\n",
       "      <td>Afghanistan</td>\n",
       "      <td>0.577544</td>\n",
       "      <td>0.229251</td>\n",
       "      <td>0.025195</td>\n",
       "      <td>1</td>\n",
       "    </tr>\n",
       "    <tr>\n",
       "      <th>1</th>\n",
       "      <td>Albania</td>\n",
       "      <td>-0.094228</td>\n",
       "      <td>-0.274495</td>\n",
       "      <td>-0.025176</td>\n",
       "      <td>0</td>\n",
       "    </tr>\n",
       "    <tr>\n",
       "      <th>2</th>\n",
       "      <td>Algeria</td>\n",
       "      <td>0.025510</td>\n",
       "      <td>-0.150158</td>\n",
       "      <td>0.121771</td>\n",
       "      <td>4</td>\n",
       "    </tr>\n",
       "    <tr>\n",
       "      <th>3</th>\n",
       "      <td>Angola</td>\n",
       "      <td>0.615073</td>\n",
       "      <td>0.327100</td>\n",
       "      <td>0.107719</td>\n",
       "      <td>1</td>\n",
       "    </tr>\n",
       "    <tr>\n",
       "      <th>4</th>\n",
       "      <td>Antigua and Barbuda</td>\n",
       "      <td>-0.157522</td>\n",
       "      <td>-0.162526</td>\n",
       "      <td>0.024333</td>\n",
       "      <td>0</td>\n",
       "    </tr>\n",
       "  </tbody>\n",
       "</table>\n",
       "</div>"
      ],
      "text/plain": [
       "               country       PC1       PC2       PC3  ClusterID\n",
       "0          Afghanistan  0.577544  0.229251  0.025195          1\n",
       "1              Albania -0.094228 -0.274495 -0.025176          0\n",
       "2              Algeria  0.025510 -0.150158  0.121771          4\n",
       "3               Angola  0.615073  0.327100  0.107719          1\n",
       "4  Antigua and Barbuda -0.157522 -0.162526  0.024333          0"
      ]
     },
     "execution_count": 42,
     "metadata": {},
     "output_type": "execute_result"
    }
   ],
   "source": [
    "dat4=pca_df\n",
    "dat4.index = pd.RangeIndex(len(dat4.index))\n",
    "dat_km = pd.concat([dat4, pd.Series(model_clus5.labels_)], axis=1)\n",
    "dat_km.columns = ['country', 'PC1', 'PC2','PC3','ClusterID']\n",
    "dat_km.head()"
   ]
  },
  {
   "cell_type": "code",
   "execution_count": 43,
   "metadata": {},
   "outputs": [
    {
     "data": {
      "text/plain": [
       "0    89\n",
       "1    35\n",
       "2    21\n",
       "4    19\n",
       "3     3\n",
       "Name: ClusterID, dtype: int64"
      ]
     },
     "execution_count": 43,
     "metadata": {},
     "output_type": "execute_result"
    }
   ],
   "source": [
    "dat_km['ClusterID'].value_counts()"
   ]
  },
  {
   "cell_type": "code",
   "execution_count": 44,
   "metadata": {},
   "outputs": [
    {
     "data": {
      "text/plain": [
       "<matplotlib.axes._subplots.AxesSubplot at 0x1a26966910>"
      ]
     },
     "execution_count": 44,
     "metadata": {},
     "output_type": "execute_result"
    },
    {
     "data": {
      "image/png": "[encoded data removed]",
      "text/plain": [
       "<Figure size 432x288 with 1 Axes>"
      ]
     },
     "metadata": {
      "needs_background": "light"
     },
     "output_type": "display_data"
    }
   ],
   "source": [
    "sns.scatterplot(x='PC1',y='PC2',hue='ClusterID',legend='full',data=dat_km)"
   ]
  },
  {
   "cell_type": "code",
   "execution_count": 45,
   "metadata": {},
   "outputs": [
    {
     "data": {
      "text/plain": [
       "<matplotlib.axes._subplots.AxesSubplot at 0x1a26a8cd90>"
      ]
     },
     "execution_count": 45,
     "metadata": {},
     "output_type": "execute_result"
    },
    {
     "data": {
      "image/png": "[encoded data removed]",
      "text/plain": [
       "<Figure size 432x288 with 1 Axes>"
      ]
     },
     "metadata": {
      "needs_background": "light"
     },
     "output_type": "display_data"
    }
   ],
   "source": [
    "sns.scatterplot(x='PC2',y='PC3',hue='ClusterID',data=dat_km)"
   ]
  },
  {
   "cell_type": "code",
   "execution_count": 46,
   "metadata": {},
   "outputs": [
    {
     "data": {
      "text/plain": [
       "<matplotlib.axes._subplots.AxesSubplot at 0x1a26b9d8d0>"
      ]
     },
     "execution_count": 46,
     "metadata": {},
     "output_type": "execute_result"
    },
    {
     "data": {
      "image/png": "[encoded data removed]",
      "text/plain": [
       "<Figure size 432x288 with 1 Axes>"
      ]
     },
     "metadata": {
      "needs_background": "light"
     },
     "output_type": "display_data"
    }
   ],
   "source": [
    "sns.scatterplot(x='PC3',y='PC1',hue='ClusterID',data=dat_km)"
   ]
  },
  {
   "cell_type": "code",
   "execution_count": 47,
   "metadata": {},
   "outputs": [
    {
     "data": {
      "text/html": [
       "<div>\n",
       "<style scoped>\n",
       "    .dataframe tbody tr th:only-of-type {\n",
       "        vertical-align: middle;\n",
       "    }\n",
       "\n",
       "    .dataframe tbody tr th {\n",
       "        vertical-align: top;\n",
       "    }\n",
       "\n",
       "    .dataframe thead th {\n",
       "        text-align: right;\n",
       "    }\n",
       "</style>\n",
       "<table border=\"1\" class=\"dataframe\">\n",
       "  <thead>\n",
       "    <tr style=\"text-align: right;\">\n",
       "      <th></th>\n",
       "      <th>ClusterID</th>\n",
       "      <th>Child_Mortality</th>\n",
       "      <th>Exports</th>\n",
       "      <th>Imports</th>\n",
       "      <th>Health_Spending</th>\n",
       "      <th>Income</th>\n",
       "      <th>Inflation</th>\n",
       "      <th>Life_Expectancy</th>\n",
       "      <th>Total_Fertility</th>\n",
       "      <th>GDPpcapita</th>\n",
       "    </tr>\n",
       "  </thead>\n",
       "  <tbody>\n",
       "    <tr>\n",
       "      <th>0</th>\n",
       "      <td>0</td>\n",
       "      <td>0.098120</td>\n",
       "      <td>0.019935</td>\n",
       "      <td>0.026773</td>\n",
       "      <td>0.064339</td>\n",
       "      <td>0.098808</td>\n",
       "      <td>0.094233</td>\n",
       "      <td>0.797088</td>\n",
       "      <td>0.163737</td>\n",
       "      <td>0.071856</td>\n",
       "    </tr>\n",
       "    <tr>\n",
       "      <th>1</th>\n",
       "      <td>1</td>\n",
       "      <td>0.449562</td>\n",
       "      <td>0.004686</td>\n",
       "      <td>0.004475</td>\n",
       "      <td>0.006993</td>\n",
       "      <td>0.021949</td>\n",
       "      <td>0.132128</td>\n",
       "      <td>0.547422</td>\n",
       "      <td>0.657639</td>\n",
       "      <td>0.012762</td>\n",
       "    </tr>\n",
       "    <tr>\n",
       "      <th>2</th>\n",
       "      <td>2</td>\n",
       "      <td>0.007790</td>\n",
       "      <td>0.179596</td>\n",
       "      <td>0.192867</td>\n",
       "      <td>0.604020</td>\n",
       "      <td>0.367164</td>\n",
       "      <td>0.052561</td>\n",
       "      <td>0.964497</td>\n",
       "      <td>0.097717</td>\n",
       "      <td>0.491171</td>\n",
       "    </tr>\n",
       "    <tr>\n",
       "      <th>3</th>\n",
       "      <td>3</td>\n",
       "      <td>0.728497</td>\n",
       "      <td>0.001110</td>\n",
       "      <td>0.003859</td>\n",
       "      <td>0.005969</td>\n",
       "      <td>0.007881</td>\n",
       "      <td>0.074670</td>\n",
       "      <td>0.195924</td>\n",
       "      <td>0.441115</td>\n",
       "      <td>0.005043</td>\n",
       "    </tr>\n",
       "    <tr>\n",
       "      <th>4</th>\n",
       "      <td>4</td>\n",
       "      <td>0.115000</td>\n",
       "      <td>0.054221</td>\n",
       "      <td>0.040917</td>\n",
       "      <td>0.077848</td>\n",
       "      <td>0.258082</td>\n",
       "      <td>0.219364</td>\n",
       "      <td>0.827676</td>\n",
       "      <td>0.336543</td>\n",
       "      <td>0.164468</td>\n",
       "    </tr>\n",
       "  </tbody>\n",
       "</table>\n",
       "</div>"
      ],
      "text/plain": [
       "   ClusterID  Child_Mortality   Exports   Imports  Health_Spending    Income  \\\n",
       "0          0         0.098120  0.019935  0.026773         0.064339  0.098808   \n",
       "1          1         0.449562  0.004686  0.004475         0.006993  0.021949   \n",
       "2          2         0.007790  0.179596  0.192867         0.604020  0.367164   \n",
       "3          3         0.728497  0.001110  0.003859         0.005969  0.007881   \n",
       "4          4         0.115000  0.054221  0.040917         0.077848  0.258082   \n",
       "\n",
       "   Inflation  Life_Expectancy  Total_Fertility  GDPpcapita  \n",
       "0   0.094233         0.797088         0.163737    0.071856  \n",
       "1   0.132128         0.547422         0.657639    0.012762  \n",
       "2   0.052561         0.964497         0.097717    0.491171  \n",
       "3   0.074670         0.195924         0.441115    0.005043  \n",
       "4   0.219364         0.827676         0.336543    0.164468  "
      ]
     },
     "execution_count": 47,
     "metadata": {},
     "output_type": "execute_result"
    }
   ],
   "source": [
    "dat5=pd.merge(help_df,dat_km,on='country')\n",
    "dat6=dat5[['country','child_mort','exports','imports','health','income','inflation','life_expec','total_fer','gdpp','ClusterID']]\n",
    "clu_chi = \tpd.DataFrame(dat6.groupby([\"ClusterID\"]).child_mort.mean())\n",
    "clu_exp= \tpd.DataFrame(dat6.groupby([\"ClusterID\"]).exports.mean())\n",
    "clu_imp = \tpd.DataFrame(dat6.groupby([\"ClusterID\"]).imports.mean())\n",
    "clu_hea = \tpd.DataFrame(dat6.groupby([\"ClusterID\"]).health.mean())\n",
    "clu_inc = \tpd.DataFrame(dat6.groupby([\"ClusterID\"]).income.mean())\n",
    "clu_inf = \tpd.DataFrame(dat6.groupby([\"ClusterID\"]).inflation.mean())         \n",
    "clu_lif = \tpd.DataFrame(dat6.groupby([\"ClusterID\"]).life_expec.mean())\n",
    "clu_tot = \tpd.DataFrame(dat6.groupby([\"ClusterID\"]).total_fer.mean())\n",
    "clu_gdpp = \tpd.DataFrame(dat6.groupby([\"ClusterID\"]).gdpp.mean())\n",
    "\n",
    "df = pd.concat([pd.Series([0,1,2,3,4]),clu_chi,clu_exp,clu_imp,clu_hea,clu_inc,clu_inf,clu_lif,clu_tot,clu_gdpp], axis=1)\n",
    "df.columns = [\"ClusterID\", \"Child_Mortality\", \"Exports\", \"Imports\",\"Health_Spending\",\"Income\",\"Inflation\",\"Life_Expectancy\",\"Total_Fertility\",\"GDPpcapita\"]\n",
    "df"
   ]
  },
  {
   "cell_type": "code",
   "execution_count": 48,
   "metadata": {},
   "outputs": [
    {
     "data": {
      "text/html": [
       "<div>\n",
       "<style scoped>\n",
       "    .dataframe tbody tr th:only-of-type {\n",
       "        vertical-align: middle;\n",
       "    }\n",
       "\n",
       "    .dataframe tbody tr th {\n",
       "        vertical-align: top;\n",
       "    }\n",
       "\n",
       "    .dataframe thead th {\n",
       "        text-align: right;\n",
       "    }\n",
       "</style>\n",
       "<table border=\"1\" class=\"dataframe\">\n",
       "  <thead>\n",
       "    <tr style=\"text-align: right;\">\n",
       "      <th></th>\n",
       "      <th>country</th>\n",
       "      <th>child_mort</th>\n",
       "      <th>exports</th>\n",
       "      <th>imports</th>\n",
       "      <th>health</th>\n",
       "      <th>income</th>\n",
       "      <th>inflation</th>\n",
       "      <th>life_expec</th>\n",
       "      <th>total_fer</th>\n",
       "      <th>gdpp</th>\n",
       "      <th>ClusterID</th>\n",
       "    </tr>\n",
       "  </thead>\n",
       "  <tbody>\n",
       "    <tr>\n",
       "      <th>1</th>\n",
       "      <td>Albania</td>\n",
       "      <td>0.068160</td>\n",
       "      <td>0.006227</td>\n",
       "      <td>0.013327</td>\n",
       "      <td>0.029486</td>\n",
       "      <td>0.074933</td>\n",
       "      <td>0.080399</td>\n",
       "      <td>0.871795</td>\n",
       "      <td>0.078864</td>\n",
       "      <td>0.036833</td>\n",
       "      <td>0</td>\n",
       "    </tr>\n",
       "    <tr>\n",
       "      <th>4</th>\n",
       "      <td>Antigua and Barbuda</td>\n",
       "      <td>0.037488</td>\n",
       "      <td>0.030204</td>\n",
       "      <td>0.048190</td>\n",
       "      <td>0.083558</td>\n",
       "      <td>0.148652</td>\n",
       "      <td>0.052213</td>\n",
       "      <td>0.881657</td>\n",
       "      <td>0.154574</td>\n",
       "      <td>0.114242</td>\n",
       "      <td>0</td>\n",
       "    </tr>\n",
       "    <tr>\n",
       "      <th>6</th>\n",
       "      <td>Armenia</td>\n",
       "      <td>0.075463</td>\n",
       "      <td>0.003639</td>\n",
       "      <td>0.009779</td>\n",
       "      <td>0.014896</td>\n",
       "      <td>0.048967</td>\n",
       "      <td>0.110711</td>\n",
       "      <td>0.812623</td>\n",
       "      <td>0.085174</td>\n",
       "      <td>0.028529</td>\n",
       "      <td>0</td>\n",
       "    </tr>\n",
       "    <tr>\n",
       "      <th>9</th>\n",
       "      <td>Azerbaijan</td>\n",
       "      <td>0.178189</td>\n",
       "      <td>0.017252</td>\n",
       "      <td>0.008104</td>\n",
       "      <td>0.038213</td>\n",
       "      <td>0.123731</td>\n",
       "      <td>0.166436</td>\n",
       "      <td>0.729783</td>\n",
       "      <td>0.121451</td>\n",
       "      <td>0.053537</td>\n",
       "      <td>0</td>\n",
       "    </tr>\n",
       "    <tr>\n",
       "      <th>10</th>\n",
       "      <td>Bahamas</td>\n",
       "      <td>0.054528</td>\n",
       "      <td>0.053328</td>\n",
       "      <td>0.082062</td>\n",
       "      <td>0.253894</td>\n",
       "      <td>0.179201</td>\n",
       "      <td>0.035274</td>\n",
       "      <td>0.822485</td>\n",
       "      <td>0.111987</td>\n",
       "      <td>0.265050</td>\n",
       "      <td>0</td>\n",
       "    </tr>\n",
       "  </tbody>\n",
       "</table>\n",
       "</div>"
      ],
      "text/plain": [
       "                country  child_mort   exports   imports    health    income  \\\n",
       "1               Albania    0.068160  0.006227  0.013327  0.029486  0.074933   \n",
       "4   Antigua and Barbuda    0.037488  0.030204  0.048190  0.083558  0.148652   \n",
       "6               Armenia    0.075463  0.003639  0.009779  0.014896  0.048967   \n",
       "9            Azerbaijan    0.178189  0.017252  0.008104  0.038213  0.123731   \n",
       "10              Bahamas    0.054528  0.053328  0.082062  0.253894  0.179201   \n",
       "\n",
       "    inflation  life_expec  total_fer      gdpp  ClusterID  \n",
       "1    0.080399    0.871795   0.078864  0.036833          0  \n",
       "4    0.052213    0.881657   0.154574  0.114242          0  \n",
       "6    0.110711    0.812623   0.085174  0.028529          0  \n",
       "9    0.166436    0.729783   0.121451  0.053537          0  \n",
       "10   0.035274    0.822485   0.111987  0.265050          0  "
      ]
     },
     "execution_count": 48,
     "metadata": {},
     "output_type": "execute_result"
    }
   ],
   "source": [
    "dat6[dat6['ClusterID']==0].head()"
   ]
  },
  {
   "cell_type": "code",
   "execution_count": 62,
   "metadata": {},
   "outputs": [
    {
     "data": {
      "text/plain": [
       "<matplotlib.axes._subplots.AxesSubplot at 0x1a271a2ad0>"
      ]
     },
     "execution_count": 62,
     "metadata": {},
     "output_type": "execute_result"
    },
    {
     "data": {
      "image/png": "[encoded data removed]",
      "text/plain": [
       "<Figure size 432x288 with 1 Axes>"
      ]
     },
     "metadata": {
      "needs_background": "light"
     },
     "output_type": "display_data"
    }
   ],
   "source": [
    "#K-means has done a satisfactory job here. Let's take a different approach and make the clusters only on the basis of these\n",
    "sns.scatterplot(x='income',y='child_mort',hue='ClusterID',data=dat6)"
   ]
  },
  {
   "cell_type": "markdown",
   "metadata": {},
   "source": [
    "# Hierarchical Clustering"
   ]
  },
  {
   "cell_type": "code",
   "execution_count": 50,
   "metadata": {},
   "outputs": [
    {
     "data": {
      "image/png": "[encoded data removed]",
      "text/plain": [
       "<Figure size 432x288 with 1 Axes>"
      ]
     },
     "metadata": {
      "needs_background": "light"
     },
     "output_type": "display_data"
    }
   ],
   "source": [
    "mergings = linkage(stand_pc, method = \"single\", metric='euclidean')\n",
    "dendrogram(mergings)\n",
    "plt.show()"
   ]
  },
  {
   "cell_type": "code",
   "execution_count": 51,
   "metadata": {},
   "outputs": [
    {
     "data": {
      "image/png": "[encoded data removed]",
      "text/plain": [
       "<Figure size 432x288 with 1 Axes>"
      ]
     },
     "metadata": {
      "needs_background": "light"
     },
     "output_type": "display_data"
    }
   ],
   "source": [
    "mergings = linkage(stand_pc, method = \"complete\", metric='euclidean')\n",
    "dendrogram(mergings)\n",
    "plt.show()"
   ]
  },
  {
   "cell_type": "code",
   "execution_count": 52,
   "metadata": {},
   "outputs": [],
   "source": [
    "clusterCut = pd.Series(cut_tree(mergings, n_clusters = 5).reshape(-1,))\n",
    "dat3_hc = pd.concat([pc_df, clusterCut], axis=1)\n",
    "dat3_hc.columns = ['country', 'PC1', 'PC2','PC3','ClusterID']"
   ]
  },
  {
   "cell_type": "code",
   "execution_count": 53,
   "metadata": {},
   "outputs": [
    {
     "data": {
      "text/html": [
       "<div>\n",
       "<style scoped>\n",
       "    .dataframe tbody tr th:only-of-type {\n",
       "        vertical-align: middle;\n",
       "    }\n",
       "\n",
       "    .dataframe tbody tr th {\n",
       "        vertical-align: top;\n",
       "    }\n",
       "\n",
       "    .dataframe thead th {\n",
       "        text-align: right;\n",
       "    }\n",
       "</style>\n",
       "<table border=\"1\" class=\"dataframe\">\n",
       "  <thead>\n",
       "    <tr style=\"text-align: right;\">\n",
       "      <th></th>\n",
       "      <th>country</th>\n",
       "      <th>PC1</th>\n",
       "      <th>PC2</th>\n",
       "      <th>PC3</th>\n",
       "      <th>ClusterID</th>\n",
       "    </tr>\n",
       "  </thead>\n",
       "  <tbody>\n",
       "    <tr>\n",
       "      <th>0</th>\n",
       "      <td>Afghanistan</td>\n",
       "      <td>0.577544</td>\n",
       "      <td>0.229251</td>\n",
       "      <td>0.025195</td>\n",
       "      <td>0</td>\n",
       "    </tr>\n",
       "    <tr>\n",
       "      <th>1</th>\n",
       "      <td>Albania</td>\n",
       "      <td>-0.094228</td>\n",
       "      <td>-0.274495</td>\n",
       "      <td>-0.025176</td>\n",
       "      <td>0</td>\n",
       "    </tr>\n",
       "    <tr>\n",
       "      <th>2</th>\n",
       "      <td>Algeria</td>\n",
       "      <td>0.025510</td>\n",
       "      <td>-0.150158</td>\n",
       "      <td>0.121771</td>\n",
       "      <td>0</td>\n",
       "    </tr>\n",
       "    <tr>\n",
       "      <th>3</th>\n",
       "      <td>Angola</td>\n",
       "      <td>0.615073</td>\n",
       "      <td>0.327100</td>\n",
       "      <td>0.107719</td>\n",
       "      <td>0</td>\n",
       "    </tr>\n",
       "    <tr>\n",
       "      <th>4</th>\n",
       "      <td>Antigua and Barbuda</td>\n",
       "      <td>-0.157522</td>\n",
       "      <td>-0.162526</td>\n",
       "      <td>0.024333</td>\n",
       "      <td>0</td>\n",
       "    </tr>\n",
       "  </tbody>\n",
       "</table>\n",
       "</div>"
      ],
      "text/plain": [
       "               country       PC1       PC2       PC3  ClusterID\n",
       "0          Afghanistan  0.577544  0.229251  0.025195          0\n",
       "1              Albania -0.094228 -0.274495 -0.025176          0\n",
       "2              Algeria  0.025510 -0.150158  0.121771          0\n",
       "3               Angola  0.615073  0.327100  0.107719          0\n",
       "4  Antigua and Barbuda -0.157522 -0.162526  0.024333          0"
      ]
     },
     "execution_count": 53,
     "metadata": {},
     "output_type": "execute_result"
    }
   ],
   "source": [
    "dat3_hc.head()"
   ]
  },
  {
   "cell_type": "code",
   "execution_count": 54,
   "metadata": {},
   "outputs": [
    {
     "data": {
      "text/html": [
       "<div>\n",
       "<style scoped>\n",
       "    .dataframe tbody tr th:only-of-type {\n",
       "        vertical-align: middle;\n",
       "    }\n",
       "\n",
       "    .dataframe tbody tr th {\n",
       "        vertical-align: top;\n",
       "    }\n",
       "\n",
       "    .dataframe thead th {\n",
       "        text-align: right;\n",
       "    }\n",
       "</style>\n",
       "<table border=\"1\" class=\"dataframe\">\n",
       "  <thead>\n",
       "    <tr style=\"text-align: right;\">\n",
       "      <th></th>\n",
       "      <th>country</th>\n",
       "      <th>child_mort</th>\n",
       "      <th>exports</th>\n",
       "      <th>imports</th>\n",
       "      <th>health</th>\n",
       "      <th>income</th>\n",
       "      <th>inflation</th>\n",
       "      <th>life_expec</th>\n",
       "      <th>total_fer</th>\n",
       "      <th>gdpp</th>\n",
       "      <th>ClusterID</th>\n",
       "    </tr>\n",
       "  </thead>\n",
       "  <tbody>\n",
       "    <tr>\n",
       "      <th>0</th>\n",
       "      <td>Afghanistan</td>\n",
       "      <td>0.426485</td>\n",
       "      <td>0.000295</td>\n",
       "      <td>0.001661</td>\n",
       "      <td>0.003363</td>\n",
       "      <td>0.008047</td>\n",
       "      <td>0.126144</td>\n",
       "      <td>0.475345</td>\n",
       "      <td>0.736593</td>\n",
       "      <td>0.003073</td>\n",
       "      <td>0</td>\n",
       "    </tr>\n",
       "    <tr>\n",
       "      <th>1</th>\n",
       "      <td>Albania</td>\n",
       "      <td>0.068160</td>\n",
       "      <td>0.006227</td>\n",
       "      <td>0.013327</td>\n",
       "      <td>0.029486</td>\n",
       "      <td>0.074933</td>\n",
       "      <td>0.080399</td>\n",
       "      <td>0.871795</td>\n",
       "      <td>0.078864</td>\n",
       "      <td>0.036833</td>\n",
       "      <td>0</td>\n",
       "    </tr>\n",
       "    <tr>\n",
       "      <th>2</th>\n",
       "      <td>Algeria</td>\n",
       "      <td>0.120253</td>\n",
       "      <td>0.009315</td>\n",
       "      <td>0.009388</td>\n",
       "      <td>0.020017</td>\n",
       "      <td>0.098809</td>\n",
       "      <td>0.187691</td>\n",
       "      <td>0.875740</td>\n",
       "      <td>0.274448</td>\n",
       "      <td>0.040365</td>\n",
       "      <td>0</td>\n",
       "    </tr>\n",
       "    <tr>\n",
       "      <th>3</th>\n",
       "      <td>Angola</td>\n",
       "      <td>0.566699</td>\n",
       "      <td>0.011963</td>\n",
       "      <td>0.010152</td>\n",
       "      <td>0.010148</td>\n",
       "      <td>0.042535</td>\n",
       "      <td>0.245911</td>\n",
       "      <td>0.552268</td>\n",
       "      <td>0.790221</td>\n",
       "      <td>0.031488</td>\n",
       "      <td>0</td>\n",
       "    </tr>\n",
       "    <tr>\n",
       "      <th>4</th>\n",
       "      <td>Antigua and Barbuda</td>\n",
       "      <td>0.037488</td>\n",
       "      <td>0.030204</td>\n",
       "      <td>0.048190</td>\n",
       "      <td>0.083558</td>\n",
       "      <td>0.148652</td>\n",
       "      <td>0.052213</td>\n",
       "      <td>0.881657</td>\n",
       "      <td>0.154574</td>\n",
       "      <td>0.114242</td>\n",
       "      <td>0</td>\n",
       "    </tr>\n",
       "  </tbody>\n",
       "</table>\n",
       "</div>"
      ],
      "text/plain": [
       "               country  child_mort   exports   imports    health    income  \\\n",
       "0          Afghanistan    0.426485  0.000295  0.001661  0.003363  0.008047   \n",
       "1              Albania    0.068160  0.006227  0.013327  0.029486  0.074933   \n",
       "2              Algeria    0.120253  0.009315  0.009388  0.020017  0.098809   \n",
       "3               Angola    0.566699  0.011963  0.010152  0.010148  0.042535   \n",
       "4  Antigua and Barbuda    0.037488  0.030204  0.048190  0.083558  0.148652   \n",
       "\n",
       "   inflation  life_expec  total_fer      gdpp  ClusterID  \n",
       "0   0.126144    0.475345   0.736593  0.003073          0  \n",
       "1   0.080399    0.871795   0.078864  0.036833          0  \n",
       "2   0.187691    0.875740   0.274448  0.040365          0  \n",
       "3   0.245911    0.552268   0.790221  0.031488          0  \n",
       "4   0.052213    0.881657   0.154574  0.114242          0  "
      ]
     },
     "execution_count": 54,
     "metadata": {},
     "output_type": "execute_result"
    }
   ],
   "source": [
    "dat7=pd.merge(help_df,dat3_hc,on='country')\n",
    "dat8=dat7[['country','child_mort','exports','imports','health','income','inflation','life_expec','total_fer','gdpp','ClusterID']]\n",
    "dat8.head()"
   ]
  },
  {
   "cell_type": "code",
   "execution_count": 55,
   "metadata": {},
   "outputs": [
    {
     "data": {
      "text/plain": [
       "0    140\n",
       "1     19\n",
       "2      4\n",
       "4      3\n",
       "3      1\n",
       "Name: ClusterID, dtype: int64"
      ]
     },
     "execution_count": 55,
     "metadata": {},
     "output_type": "execute_result"
    }
   ],
   "source": [
    "dat8['ClusterID'].value_counts()"
   ]
  },
  {
   "cell_type": "code",
   "execution_count": 56,
   "metadata": {},
   "outputs": [
    {
     "data": {
      "text/html": [
       "<div>\n",
       "<style scoped>\n",
       "    .dataframe tbody tr th:only-of-type {\n",
       "        vertical-align: middle;\n",
       "    }\n",
       "\n",
       "    .dataframe tbody tr th {\n",
       "        vertical-align: top;\n",
       "    }\n",
       "\n",
       "    .dataframe thead th {\n",
       "        text-align: right;\n",
       "    }\n",
       "</style>\n",
       "<table border=\"1\" class=\"dataframe\">\n",
       "  <thead>\n",
       "    <tr style=\"text-align: right;\">\n",
       "      <th></th>\n",
       "      <th>country</th>\n",
       "      <th>child_mort</th>\n",
       "      <th>exports</th>\n",
       "      <th>imports</th>\n",
       "      <th>health</th>\n",
       "      <th>income</th>\n",
       "      <th>inflation</th>\n",
       "      <th>life_expec</th>\n",
       "      <th>total_fer</th>\n",
       "      <th>gdpp</th>\n",
       "      <th>ClusterID</th>\n",
       "    </tr>\n",
       "  </thead>\n",
       "  <tbody>\n",
       "    <tr>\n",
       "      <th>31</th>\n",
       "      <td>Central African Republic</td>\n",
       "      <td>0.712756</td>\n",
       "      <td>0.000281</td>\n",
       "      <td>0.000788</td>\n",
       "      <td>0.000570</td>\n",
       "      <td>0.002243</td>\n",
       "      <td>0.057481</td>\n",
       "      <td>0.303748</td>\n",
       "      <td>0.640379</td>\n",
       "      <td>0.002052</td>\n",
       "      <td>2</td>\n",
       "    </tr>\n",
       "    <tr>\n",
       "      <th>66</th>\n",
       "      <td>Haiti</td>\n",
       "      <td>1.000000</td>\n",
       "      <td>0.000545</td>\n",
       "      <td>0.002868</td>\n",
       "      <td>0.003806</td>\n",
       "      <td>0.007163</td>\n",
       "      <td>0.089271</td>\n",
       "      <td>0.000000</td>\n",
       "      <td>0.343849</td>\n",
       "      <td>0.004114</td>\n",
       "      <td>2</td>\n",
       "    </tr>\n",
       "    <tr>\n",
       "      <th>87</th>\n",
       "      <td>Lesotho</td>\n",
       "      <td>0.472736</td>\n",
       "      <td>0.002503</td>\n",
       "      <td>0.007921</td>\n",
       "      <td>0.013530</td>\n",
       "      <td>0.014237</td>\n",
       "      <td>0.077257</td>\n",
       "      <td>0.284024</td>\n",
       "      <td>0.339117</td>\n",
       "      <td>0.008963</td>\n",
       "      <td>2</td>\n",
       "    </tr>\n",
       "    <tr>\n",
       "      <th>137</th>\n",
       "      <td>South Africa</td>\n",
       "      <td>0.248783</td>\n",
       "      <td>0.011325</td>\n",
       "      <td>0.013374</td>\n",
       "      <td>0.073752</td>\n",
       "      <td>0.091574</td>\n",
       "      <td>0.097588</td>\n",
       "      <td>0.437870</td>\n",
       "      <td>0.227129</td>\n",
       "      <td>0.067281</td>\n",
       "      <td>2</td>\n",
       "    </tr>\n",
       "  </tbody>\n",
       "</table>\n",
       "</div>"
      ],
      "text/plain": [
       "                      country  child_mort   exports   imports    health  \\\n",
       "31   Central African Republic    0.712756  0.000281  0.000788  0.000570   \n",
       "66                      Haiti    1.000000  0.000545  0.002868  0.003806   \n",
       "87                    Lesotho    0.472736  0.002503  0.007921  0.013530   \n",
       "137              South Africa    0.248783  0.011325  0.013374  0.073752   \n",
       "\n",
       "       income  inflation  life_expec  total_fer      gdpp  ClusterID  \n",
       "31   0.002243   0.057481    0.303748   0.640379  0.002052          2  \n",
       "66   0.007163   0.089271    0.000000   0.343849  0.004114          2  \n",
       "87   0.014237   0.077257    0.284024   0.339117  0.008963          2  \n",
       "137  0.091574   0.097588    0.437870   0.227129  0.067281          2  "
      ]
     },
     "execution_count": 56,
     "metadata": {},
     "output_type": "execute_result"
    }
   ],
   "source": [
    "dat8[dat8['ClusterID']==2]"
   ]
  },
  {
   "cell_type": "code",
   "execution_count": 57,
   "metadata": {},
   "outputs": [
    {
     "data": {
      "text/html": [
       "<div>\n",
       "<style scoped>\n",
       "    .dataframe tbody tr th:only-of-type {\n",
       "        vertical-align: middle;\n",
       "    }\n",
       "\n",
       "    .dataframe tbody tr th {\n",
       "        vertical-align: top;\n",
       "    }\n",
       "\n",
       "    .dataframe thead th {\n",
       "        text-align: right;\n",
       "    }\n",
       "</style>\n",
       "<table border=\"1\" class=\"dataframe\">\n",
       "  <thead>\n",
       "    <tr style=\"text-align: right;\">\n",
       "      <th></th>\n",
       "      <th>country</th>\n",
       "      <th>child_mort</th>\n",
       "      <th>exports</th>\n",
       "      <th>imports</th>\n",
       "      <th>health</th>\n",
       "      <th>income</th>\n",
       "      <th>inflation</th>\n",
       "      <th>life_expec</th>\n",
       "      <th>total_fer</th>\n",
       "      <th>gdpp</th>\n",
       "      <th>ClusterID</th>\n",
       "    </tr>\n",
       "  </thead>\n",
       "  <tbody>\n",
       "    <tr>\n",
       "      <th>91</th>\n",
       "      <td>Luxembourg</td>\n",
       "      <td>0.000974</td>\n",
       "      <td>1.0</td>\n",
       "      <td>1.0</td>\n",
       "      <td>0.941612</td>\n",
       "      <td>0.732296</td>\n",
       "      <td>0.072359</td>\n",
       "      <td>0.970414</td>\n",
       "      <td>0.07571</td>\n",
       "      <td>1.0</td>\n",
       "      <td>3</td>\n",
       "    </tr>\n",
       "  </tbody>\n",
       "</table>\n",
       "</div>"
      ],
      "text/plain": [
       "       country  child_mort  exports  imports    health    income  inflation  \\\n",
       "91  Luxembourg    0.000974      1.0      1.0  0.941612  0.732296   0.072359   \n",
       "\n",
       "    life_expec  total_fer  gdpp  ClusterID  \n",
       "91    0.970414    0.07571   1.0          3  "
      ]
     },
     "execution_count": 57,
     "metadata": {},
     "output_type": "execute_result"
    }
   ],
   "source": [
    "dat8[dat8['ClusterID']==3]"
   ]
  },
  {
   "cell_type": "code",
   "execution_count": 58,
   "metadata": {},
   "outputs": [
    {
     "data": {
      "text/html": [
       "<div>\n",
       "<style scoped>\n",
       "    .dataframe tbody tr th:only-of-type {\n",
       "        vertical-align: middle;\n",
       "    }\n",
       "\n",
       "    .dataframe tbody tr th {\n",
       "        vertical-align: top;\n",
       "    }\n",
       "\n",
       "    .dataframe thead th {\n",
       "        text-align: right;\n",
       "    }\n",
       "</style>\n",
       "<table border=\"1\" class=\"dataframe\">\n",
       "  <thead>\n",
       "    <tr style=\"text-align: right;\">\n",
       "      <th></th>\n",
       "      <th>country</th>\n",
       "      <th>child_mort</th>\n",
       "      <th>exports</th>\n",
       "      <th>imports</th>\n",
       "      <th>health</th>\n",
       "      <th>income</th>\n",
       "      <th>inflation</th>\n",
       "      <th>life_expec</th>\n",
       "      <th>total_fer</th>\n",
       "      <th>gdpp</th>\n",
       "      <th>ClusterID</th>\n",
       "    </tr>\n",
       "  </thead>\n",
       "  <tbody>\n",
       "    <tr>\n",
       "      <th>0</th>\n",
       "      <td>Afghanistan</td>\n",
       "      <td>0.426485</td>\n",
       "      <td>0.000295</td>\n",
       "      <td>0.001661</td>\n",
       "      <td>0.003363</td>\n",
       "      <td>0.008047</td>\n",
       "      <td>0.126144</td>\n",
       "      <td>0.475345</td>\n",
       "      <td>0.736593</td>\n",
       "      <td>0.003073</td>\n",
       "      <td>0</td>\n",
       "    </tr>\n",
       "    <tr>\n",
       "      <th>1</th>\n",
       "      <td>Albania</td>\n",
       "      <td>0.068160</td>\n",
       "      <td>0.006227</td>\n",
       "      <td>0.013327</td>\n",
       "      <td>0.029486</td>\n",
       "      <td>0.074933</td>\n",
       "      <td>0.080399</td>\n",
       "      <td>0.871795</td>\n",
       "      <td>0.078864</td>\n",
       "      <td>0.036833</td>\n",
       "      <td>0</td>\n",
       "    </tr>\n",
       "    <tr>\n",
       "      <th>2</th>\n",
       "      <td>Algeria</td>\n",
       "      <td>0.120253</td>\n",
       "      <td>0.009315</td>\n",
       "      <td>0.009388</td>\n",
       "      <td>0.020017</td>\n",
       "      <td>0.098809</td>\n",
       "      <td>0.187691</td>\n",
       "      <td>0.875740</td>\n",
       "      <td>0.274448</td>\n",
       "      <td>0.040365</td>\n",
       "      <td>0</td>\n",
       "    </tr>\n",
       "    <tr>\n",
       "      <th>3</th>\n",
       "      <td>Angola</td>\n",
       "      <td>0.566699</td>\n",
       "      <td>0.011963</td>\n",
       "      <td>0.010152</td>\n",
       "      <td>0.010148</td>\n",
       "      <td>0.042535</td>\n",
       "      <td>0.245911</td>\n",
       "      <td>0.552268</td>\n",
       "      <td>0.790221</td>\n",
       "      <td>0.031488</td>\n",
       "      <td>0</td>\n",
       "    </tr>\n",
       "    <tr>\n",
       "      <th>4</th>\n",
       "      <td>Antigua and Barbuda</td>\n",
       "      <td>0.037488</td>\n",
       "      <td>0.030204</td>\n",
       "      <td>0.048190</td>\n",
       "      <td>0.083558</td>\n",
       "      <td>0.148652</td>\n",
       "      <td>0.052213</td>\n",
       "      <td>0.881657</td>\n",
       "      <td>0.154574</td>\n",
       "      <td>0.114242</td>\n",
       "      <td>0</td>\n",
       "    </tr>\n",
       "  </tbody>\n",
       "</table>\n",
       "</div>"
      ],
      "text/plain": [
       "               country  child_mort   exports   imports    health    income  \\\n",
       "0          Afghanistan    0.426485  0.000295  0.001661  0.003363  0.008047   \n",
       "1              Albania    0.068160  0.006227  0.013327  0.029486  0.074933   \n",
       "2              Algeria    0.120253  0.009315  0.009388  0.020017  0.098809   \n",
       "3               Angola    0.566699  0.011963  0.010152  0.010148  0.042535   \n",
       "4  Antigua and Barbuda    0.037488  0.030204  0.048190  0.083558  0.148652   \n",
       "\n",
       "   inflation  life_expec  total_fer      gdpp  ClusterID  \n",
       "0   0.126144    0.475345   0.736593  0.003073          0  \n",
       "1   0.080399    0.871795   0.078864  0.036833          0  \n",
       "2   0.187691    0.875740   0.274448  0.040365          0  \n",
       "3   0.245911    0.552268   0.790221  0.031488          0  \n",
       "4   0.052213    0.881657   0.154574  0.114242          0  "
      ]
     },
     "execution_count": 58,
     "metadata": {},
     "output_type": "execute_result"
    }
   ],
   "source": [
    "dat8[dat8['ClusterID']==0].head()"
   ]
  },
  {
   "cell_type": "code",
   "execution_count": 63,
   "metadata": {},
   "outputs": [
    {
     "data": {
      "text/plain": [
       "<matplotlib.axes._subplots.AxesSubplot at 0x1a27280a50>"
      ]
     },
     "execution_count": 63,
     "metadata": {},
     "output_type": "execute_result"
    },
    {
     "data": {
      "image/png": "[encoded data removed]",
      "text/plain": [
       "<Figure size 432x288 with 1 Axes>"
      ]
     },
     "metadata": {
      "needs_background": "light"
     },
     "output_type": "display_data"
    }
   ],
   "source": [
    "datp=dat8[dat8['ClusterID']==0]\n",
    "sns.scatterplot(x='income',y='child_mort',hue='ClusterID',data=dat6)"
   ]
  },
  {
   "cell_type": "markdown",
   "metadata": {},
   "source": [
    "As we couldn't get proper results from hierarchical clustering and the data is skewed in cluster 0 (as most of the cluster have high mortility).\n"
   ]
  },
  {
   "cell_type": "markdown",
   "metadata": {},
   "source": [
    "we could still see than not all countries in cluster 0 need aid as most of them have income >> child_mort"
   ]
  }
 ],
 "metadata": {
  "kernelspec": {
   "display_name": "Python 3",
   "language": "python",
   "name": "python3"
  },
  "language_info": {
   "codemirror_mode": {
    "name": "ipython",
    "version": 3
   },
   "file_extension": ".py",
   "mimetype": "text/x-python",
   "name": "python",
   "nbconvert_exporter": "python",
   "pygments_lexer": "ipython3",
   "version": "3.7.6"
  }
 },
 "nbformat": 4,
 "nbformat_minor": 2
}
